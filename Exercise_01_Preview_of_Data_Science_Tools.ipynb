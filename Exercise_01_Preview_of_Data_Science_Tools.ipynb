{
  "cells": [
    {
      "cell_type": "markdown",
      "metadata": {
        "id": "view-in-github",
        "colab_type": "text"
      },
      "source": [
        "<a href=\"https://colab.research.google.com/github/ranand97/ranand97/blob/main/Exercise_01_Preview_of_Data_Science_Tools.ipynb\" target=\"_parent\"><img src=\"https://colab.research.google.com/assets/colab-badge.svg\" alt=\"Open In Colab\"/></a>"
      ]
    },
    {
      "cell_type": "markdown",
      "metadata": {
        "id": "mlvV1GDgK4ia"
      },
      "source": [
        "# Exercise - A Preview of Data Science Tools\n",
        "In the following cell two lists of weight (in lbs) and height (in inches) of 12 basketball players are given:"
      ]
    },
    {
      "cell_type": "code",
      "execution_count": 3,
      "metadata": {
        "id": "ibitFtScK4ib"
      },
      "outputs": [],
      "source": [
        "height_in = [73, 74, 71, 75, 74, 72, 70, 71, 68, 69, 72, 71]\n",
        "weight_lb = [170 , 215, 210 , 204, 189, 195, 190, 194, 200, 178, 199, 202]"
      ]
    },
    {
      "cell_type": "markdown",
      "metadata": {
        "id": "HtQxVsKeK4ib"
      },
      "source": [
        "Import the numpy package as np"
      ]
    },
    {
      "cell_type": "code",
      "execution_count": 1,
      "metadata": {
        "id": "MJLPjDSJK4ib"
      },
      "outputs": [],
      "source": [
        "# Your answer goes here\n",
        "import numpy as np\n"
      ]
    },
    {
      "cell_type": "markdown",
      "metadata": {
        "id": "dbZBcZm7K4ib"
      },
      "source": [
        "Create 2 numpy arrays, `np_height_in` & `np_weight_lb`, from height and weight. Hint: one can make a numpy array from a python list, L, by `np.array(L)`."
      ]
    },
    {
      "cell_type": "code",
      "execution_count": 4,
      "metadata": {
        "id": "8BaXD89wK4ic"
      },
      "outputs": [],
      "source": [
        "# Your answer goes here\n",
        "np_height_in = np.array(height_in)\n",
        "np_weight_lb = np.array(weight_lb)"
      ]
    },
    {
      "cell_type": "markdown",
      "metadata": {
        "id": "95O1hDAqK4ic"
      },
      "source": [
        "Checkout the type of np_weight_lb:"
      ]
    },
    {
      "cell_type": "code",
      "execution_count": 5,
      "metadata": {
        "id": "e49KaQWoK4ic",
        "outputId": "c14e36ad-395b-45fb-ea62-2edbb571dcf1",
        "colab": {
          "base_uri": "https://localhost:8080/"
        }
      },
      "outputs": [
        {
          "output_type": "execute_result",
          "data": {
            "text/plain": [
              "numpy.ndarray"
            ]
          },
          "metadata": {},
          "execution_count": 5
        }
      ],
      "source": [
        "# Your answer goes here\n",
        "type(np_weight_lb)"
      ]
    },
    {
      "cell_type": "markdown",
      "metadata": {
        "id": "M5vTf9obK4ic"
      },
      "source": [
        "This is how `np_weight_lb` will look like after the conversion:"
      ]
    },
    {
      "cell_type": "code",
      "execution_count": 6,
      "metadata": {
        "id": "tg2J44eGK4ic",
        "outputId": "7f7c2325-9100-4f08-d7ab-f0d8b79731dd",
        "colab": {
          "base_uri": "https://localhost:8080/"
        }
      },
      "outputs": [
        {
          "output_type": "execute_result",
          "data": {
            "text/plain": [
              "array([170, 215, 210, 204, 189, 195, 190, 194, 200, 178, 199, 202])"
            ]
          },
          "metadata": {},
          "execution_count": 6
        }
      ],
      "source": [
        "np_weight_lb"
      ]
    },
    {
      "cell_type": "markdown",
      "metadata": {
        "id": "SqvYYR0jK4ic"
      },
      "source": [
        "Convert `np_height_in` to meters and call it `np_height_m`, then print it. Hint: Use the formula $height(m) = height(in) * 2.54\\  /\\  100$."
      ]
    },
    {
      "cell_type": "code",
      "execution_count": 8,
      "metadata": {
        "id": "Yxf4SJn1K4ic",
        "outputId": "b0bed0d1-a268-4145-f5b2-18c41f5174a9",
        "colab": {
          "base_uri": "https://localhost:8080/"
        }
      },
      "outputs": [
        {
          "output_type": "execute_result",
          "data": {
            "text/plain": [
              "array([1.8542, 1.8796, 1.8034, 1.905 , 1.8796, 1.8288, 1.778 , 1.8034,\n",
              "       1.7272, 1.7526, 1.8288, 1.8034])"
            ]
          },
          "metadata": {},
          "execution_count": 8
        }
      ],
      "source": [
        "np_height_m = np_height_in * 2.54 / 100\n",
        "np_height_m\n",
        "\n"
      ]
    },
    {
      "cell_type": "markdown",
      "metadata": {
        "id": "M_sdYWnSK4ic"
      },
      "source": [
        "Convert `np_weight_lb` to Kgs and call it `np_weight_kg`, then print it. Hint: Use the formula $weight(kg) = weight(lb) \\ /\\  2.2$."
      ]
    },
    {
      "cell_type": "code",
      "execution_count": 10,
      "metadata": {
        "id": "gz7Vtc9GK4ic",
        "outputId": "cede818c-3b73-4d31-a5fc-747e0b62fd28",
        "colab": {
          "base_uri": "https://localhost:8080/"
        }
      },
      "outputs": [
        {
          "output_type": "execute_result",
          "data": {
            "text/plain": [
              "array([77.27272727, 97.72727273, 95.45454545, 92.72727273, 85.90909091,\n",
              "       88.63636364, 86.36363636, 88.18181818, 90.90909091, 80.90909091,\n",
              "       90.45454545, 91.81818182])"
            ]
          },
          "metadata": {},
          "execution_count": 10
        }
      ],
      "source": [
        "# Your answer goes here\n",
        "np_weight_kg = np_weight_lb / 2.2\n",
        "np_weight_kg"
      ]
    },
    {
      "cell_type": "markdown",
      "metadata": {
        "id": "93cYajBTK4ic"
      },
      "source": [
        "Using `np_weight_kg` and `np_height_m` create a simple scatter plot.\n",
        "Hint: to do this you have several options, here are two of them: 1) use `plt.plot(x, y, 'o')`. The option 'o' here creates a scatter plot with circles; checkout help `plt.plot?` to find out about other symbols. 2) use `plt.scatter(x, y)` function."
      ]
    },
    {
      "cell_type": "code",
      "execution_count": 12,
      "metadata": {
        "id": "rQSmOqs1K4id",
        "outputId": "1d30232f-1210-431e-ac7c-cdd3487fe0fd",
        "colab": {
          "base_uri": "https://localhost:8080/",
          "height": 472
        }
      },
      "outputs": [
        {
          "output_type": "display_data",
          "data": {
            "text/plain": [
              "<Figure size 640x480 with 1 Axes>"
            ],
            "image/png": "[encoded data removed]"
          },
          "metadata": {}
        }
      ],
      "source": [
        "# Your answer goes here\n",
        "import matplotlib.pyplot as plt\n",
        "plt.plot(np_weight_kg, np_height_m, 'o')\n",
        "plt.xlabel('Weight (kg)')\n",
        "plt.ylabel('Height (m)')\n",
        "plt.title('Weight vs. Height Scatter Plot')\n",
        "plt.grid(True)\n",
        "plt.show()\n"
      ]
    },
    {
      "cell_type": "markdown",
      "metadata": {
        "id": "lzkD-iP0K4id"
      },
      "source": [
        "Now try to use the second option. But this time also use `plt.xlabel(\"X-label\")` & ``plt.ylabel(\"Y-label\")`` to give the axis appropriate names:"
      ]
    },
    {
      "cell_type": "code",
      "execution_count": 13,
      "metadata": {
        "id": "XJLKZVj3K4id",
        "outputId": "c9a78198-0ac2-4cf8-9287-6d384526bd9c",
        "colab": {
          "base_uri": "https://localhost:8080/",
          "height": 472
        }
      },
      "outputs": [
        {
          "output_type": "display_data",
          "data": {
            "text/plain": [
              "<Figure size 640x480 with 1 Axes>"
            ],
            "image/png": "[encoded data removed]"
          },
          "metadata": {}
        }
      ],
      "source": [
        "# Your answer goes here\n",
        "plt.scatter(np_weight_kg, np_height_m)\n",
        "plt.xlabel('Weight (kg)')  # Label for the X-axis\n",
        "plt.ylabel('Height (m)')  # Label for the Y-axis\n",
        "plt.title('Weight vs. Height Scatter Plot')\n",
        "plt.grid(True)\n",
        "plt.show()\n"
      ]
    },
    {
      "cell_type": "markdown",
      "metadata": {
        "id": "ICISlRwIK4id"
      },
      "source": [
        "Calculate bmi and call it `bmi`, round it to 2 digits and print it. Hint: $bmi = weight(kg)\\  /\\  height ^ 2(m)$."
      ]
    },
    {
      "cell_type": "code",
      "execution_count": 16,
      "metadata": {
        "id": "HVQEnXUxK4id",
        "outputId": "c903107e-75af-423f-fd14-b015e6e85086",
        "colab": {
          "base_uri": "https://localhost:8080/"
        }
      },
      "outputs": [
        {
          "output_type": "stream",
          "name": "stdout",
          "text": [
            "[22.48 27.66 29.35 25.55 24.32 26.5  27.32 27.11 30.47 26.34 27.05 28.23]\n"
          ]
        }
      ],
      "source": [
        "# Your answer goes here\n",
        "bmi = np_weight_kg / (np_height_m ** 2)\n",
        "\n",
        "# Round the BMI to 2 digits\n",
        "rounded_bmi = np.round(bmi, 2)\n",
        "\n",
        "# Print the rounded BMI values\n",
        "print(rounded_bmi)\n",
        "\n"
      ]
    },
    {
      "cell_type": "markdown",
      "metadata": {
        "id": "HxDtAr7gK4id"
      },
      "source": [
        "Checkout the type of `bmi`:"
      ]
    },
    {
      "cell_type": "code",
      "execution_count": 17,
      "metadata": {
        "id": "FmchPARjK4id",
        "outputId": "69ac6be5-a238-4b2f-af52-fd444d8ffaef",
        "colab": {
          "base_uri": "https://localhost:8080/"
        }
      },
      "outputs": [
        {
          "output_type": "execute_result",
          "data": {
            "text/plain": [
              "numpy.ndarray"
            ]
          },
          "metadata": {},
          "execution_count": 17
        }
      ],
      "source": [
        "# Your answer goes here\n",
        "type(bmi)"
      ]
    },
    {
      "cell_type": "markdown",
      "metadata": {
        "id": "A8eupkRNK4id"
      },
      "source": [
        "Create a Pandas dafaframe from np_weight_kg, np_height_m, bmi with the column names `weight`, `height`, `bmi`. Call this dataframe `players`:"
      ]
    },
    {
      "cell_type": "code",
      "execution_count": 19,
      "metadata": {
        "id": "duF8ChoMK4id",
        "outputId": "b02e4e34-f350-4eea-9c75-c5ac19983571",
        "colab": {
          "base_uri": "https://localhost:8080/"
        }
      },
      "outputs": [
        {
          "output_type": "stream",
          "name": "stdout",
          "text": [
            "       weight  height        bmi\n",
            "0   77.272727  1.8542  22.475693\n",
            "1   97.727273  1.8796  27.662085\n",
            "2   95.454545  1.8034  29.350296\n",
            "3   92.727273  1.9050  25.551566\n",
            "4   85.909091  1.8796  24.316902\n",
            "5   88.636364  1.8288  26.502052\n",
            "6   86.363636  1.7780  27.319164\n",
            "7   88.181818  1.8034  27.114083\n",
            "8   90.909091  1.7272  30.473480\n",
            "9   80.909091  1.7526  26.340967\n",
            "10  90.454545  1.8288  27.045684\n",
            "11  91.818182  1.8034  28.232189\n"
          ]
        }
      ],
      "source": [
        "# Your answer goes here\n",
        "# Create a Pandas DataFrame\n",
        "import pandas as pd\n",
        "players = pd.DataFrame({'weight': np_weight_kg, 'height': np_height_m, 'bmi': bmi})\n",
        "\n",
        "# Print the DataFrame\n",
        "print(players)"
      ]
    },
    {
      "cell_type": "markdown",
      "metadata": {
        "id": "LsHGRlBkK4id"
      },
      "source": [
        "See if you can reproduce the above plot by using DataFrame method `.plot.scatter()` on `players` DataFrame:"
      ]
    },
    {
      "cell_type": "code",
      "execution_count": 22,
      "metadata": {
        "id": "F4GdVvZfK4id",
        "outputId": "e600725e-7a80-45ff-b636-edcc24d3424b",
        "colab": {
          "base_uri": "https://localhost:8080/",
          "height": 467
        }
      },
      "outputs": [
        {
          "output_type": "execute_result",
          "data": {
            "text/plain": [
              "Text(0, 0.5, 'Height (m)')"
            ]
          },
          "metadata": {},
          "execution_count": 22
        },
        {
          "output_type": "display_data",
          "data": {
            "text/plain": [
              "<Figure size 640x480 with 2 Axes>"
            ],
            "image/png": "[encoded data removed]"
          },
          "metadata": {}
        }
      ],
      "source": [
        "# Your answer goes here\n",
        "players.plot.scatter(x='weight', y='height', c='bmi')\n",
        "\n",
        "# Label the axes\n",
        "plt.xlabel('Weight (kg)')\n",
        "plt.ylabel('Height (m)')"
      ]
    },
    {
      "cell_type": "markdown",
      "metadata": {
        "id": "2vfL7pxWK4id"
      },
      "source": [
        "Now with ggplot style:"
      ]
    },
    {
      "cell_type": "code",
      "execution_count": 29,
      "metadata": {
        "id": "VZpztAXeK4ie",
        "outputId": "f1af7d04-71f7-471d-f144-76eb88f20fbd",
        "colab": {
          "base_uri": "https://localhost:8080/",
          "height": 143
        }
      },
      "outputs": [
        {
          "output_type": "error",
          "ename": "SyntaxError",
          "evalue": "ignored",
          "traceback": [
            "\u001b[0;36m  File \u001b[0;32m\"<ipython-input-29-7b0ef508863e>\"\u001b[0;36m, line \u001b[0;32m2\u001b[0m\n\u001b[0;31m    pip install ggplot\u001b[0m\n\u001b[0m        ^\u001b[0m\n\u001b[0;31mSyntaxError\u001b[0m\u001b[0;31m:\u001b[0m invalid syntax\n"
          ]
        }
      ],
      "source": [
        "# Your answer goes here\n",
        "\n",
        "scatter_plot = ggplot(players, aes(x='weight', y='height', color='bmi'))\n",
        "scatter_plot.xlabel(\"Weight (kg)\")\n",
        "scatter_plot.ylabel(\"Height (m)\")\n",
        "\n",
        "# Display the plot\n",
        "print(scatter_plot)"
      ]
    },
    {
      "cell_type": "code",
      "source": [],
      "metadata": {
        "id": "ROgJqKh-zNEl"
      },
      "execution_count": null,
      "outputs": []
    }
  ],
  "metadata": {
    "colab": {
      "provenance": [],
      "include_colab_link": true
    },
    "kernelspec": {
      "display_name": "Python 3 (ipykernel)",
      "language": "python",
      "name": "python3"
    },
    "language_info": {
      "codemirror_mode": {
        "name": "ipython",
        "version": 3
      },
      "file_extension": ".py",
      "mimetype": "text/x-python",
      "name": "python",
      "nbconvert_exporter": "python",
      "pygments_lexer": "ipython3",
      "version": "3.9.7"
    }
  },
  "nbformat": 4,
  "nbformat_minor": 0
}