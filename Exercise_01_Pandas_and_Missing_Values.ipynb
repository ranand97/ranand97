{
  "nbformat": 4,
  "nbformat_minor": 0,
  "metadata": {
    "kernelspec": {
      "display_name": "Python 3",
      "language": "python",
      "name": "python3"
    },
    "language_info": {
      "codemirror_mode": {
        "name": "ipython",
        "version": 3
      },
      "file_extension": ".py",
      "mimetype": "text/x-python",
      "name": "python",
      "nbconvert_exporter": "python",
      "pygments_lexer": "ipython3",
      "version": "3.7.2"
    },
    "colab": {
      "provenance": [],
      "include_colab_link": true
    }
  },
  "cells": [
    {
      "cell_type": "markdown",
      "metadata": {
        "id": "view-in-github",
        "colab_type": "text"
      },
      "source": [
        "<a href=\"https://colab.research.google.com/github/ranand97/ranand97/blob/main/Exercise_01_Pandas_and_Missing_Values.ipynb\" target=\"_parent\"><img src=\"https://colab.research.google.com/assets/colab-badge.svg\" alt=\"Open In Colab\"/></a>"
      ]
    },
    {
      "cell_type": "code",
      "metadata": {
        "id": "5OtGf_lRiX5v"
      },
      "source": [
        "# This cell is used to load the hints and solutions, if needed\n",
        "from IPython.display import Pretty as disp\n",
        "hint = 'https://raw.githubusercontent.com/soltaniehha/Business-Analytics/master/docs/hints/'  # path to hints on GitHub"
      ],
      "execution_count": null,
      "outputs": []
    },
    {
      "cell_type": "markdown",
      "metadata": {
        "id": "--Kl6Bfs7i8L"
      },
      "source": [
        "# Exercise - Working with Pandas and Seaborn\n",
        "\n",
        "Now it's your turn to practice what we learned in the previous notebook.\n",
        "\n",
        "Import the real estate dataset from the following Github path: `data/2017_StPaul_MN_Real_Estate.csv`\n",
        "\n",
        "**Local Jupyter:** You can use the relative path `../data/2017_StPaul_MN_Real_Estate.csv` to import it.\n",
        "\n",
        "**Colab:** You will need to upload this file into your Colab container first. Upload `2017_StPaul_MN_Real_Estate.csv` file to the content folder of Colab.\n",
        "\n",
        "Call this DataFrame `houses`. Remember to import pandas first."
      ]
    },
    {
      "cell_type": "code",
      "metadata": {
        "id": "dIx2D8ua7i8O",
        "colab": {
          "base_uri": "https://localhost:8080/",
          "height": 92
        },
        "outputId": "75a24f71-f9cb-43ee-b2f6-3af48e595da9"
      },
      "source": [
        "# Your code goes here\n",
        "import pandas as pd\n",
        "from google.colab import files\n",
        "\n",
        "uploaded = files.upload()\n",
        "\n",
        "for fn in uploaded.keys():\n",
        "  print('User uploaded file \"{name}\" with length {length} bytes'.format(\n",
        "      name=fn, length=len(uploaded[fn])))\n"
      ],
      "execution_count": null,
      "outputs": [
        {
          "output_type": "display_data",
          "data": {
            "text/plain": [
              "<IPython.core.display.HTML object>"
            ],
            "text/html": [
              "\n",
              "     <input type=\"file\" id=\"files-593a556b-0f2c-4ee1-a99b-7ce9dbc97e0e\" name=\"files[]\" multiple disabled\n",
              "        style=\"border:none\" />\n",
              "     <output id=\"result-593a556b-0f2c-4ee1-a99b-7ce9dbc97e0e\">\n",
              "      Upload widget is only available when the cell has been executed in the\n",
              "      current browser session. Please rerun this cell to enable.\n",
              "      </output>\n",
              "      <script>// Copyright 2017 Google LLC\n",
              "//\n",
              "// Licensed under the Apache License, Version 2.0 (the \"License\");\n",
              "// you may not use this file except in compliance with the License.\n",
              "// You may obtain a copy of the License at\n",
              "//\n",
              "//      http://www.apache.org/licenses/LICENSE-2.0\n",
              "//\n",
              "// Unless required by applicable law or agreed to in writing, software\n",
              "// distributed under the License is distributed on an \"AS IS\" BASIS,\n",
              "// WITHOUT WARRANTIES OR CONDITIONS OF ANY KIND, either express or implied.\n",
              "// See the License for the specific language governing permissions and\n",
              "// limitations under the License.\n",
              "\n",
              "/**\n",
              " * @fileoverview Helpers for google.colab Python module.\n",
              " */\n",
              "(function(scope) {\n",
              "function span(text, styleAttributes = {}) {\n",
              "  const element = document.createElement('span');\n",
              "  element.textContent = text;\n",
              "  for (const key of Object.keys(styleAttributes)) {\n",
              "    element.style[key] = styleAttributes[key];\n",
              "  }\n",
              "  return element;\n",
              "}\n",
              "\n",
              "// Max number of bytes which will be uploaded at a time.\n",
              "const MAX_PAYLOAD_SIZE = 100 * 1024;\n",
              "\n",
              "function _uploadFiles(inputId, outputId) {\n",
              "  const steps = uploadFilesStep(inputId, outputId);\n",
              "  const outputElement = document.getElementById(outputId);\n",
              "  // Cache steps on the outputElement to make it available for the next call\n",
              "  // to uploadFilesContinue from Python.\n",
              "  outputElement.steps = steps;\n",
              "\n",
              "  return _uploadFilesContinue(outputId);\n",
              "}\n",
              "\n",
              "// This is roughly an async generator (not supported in the browser yet),\n",
              "// where there are multiple asynchronous steps and the Python side is going\n",
              "// to poll for completion of each step.\n",
              "// This uses a Promise to block the python side on completion of each step,\n",
              "// then passes the result of the previous step as the input to the next step.\n",
              "function _uploadFilesContinue(outputId) {\n",
              "  const outputElement = document.getElementById(outputId);\n",
              "  const steps = outputElement.steps;\n",
              "\n",
              "  const next = steps.next(outputElement.lastPromiseValue);\n",
              "  return Promise.resolve(next.value.promise).then((value) => {\n",
              "    // Cache the last promise value to make it available to the next\n",
              "    // step of the generator.\n",
              "    outputElement.lastPromiseValue = value;\n",
              "    return next.value.response;\n",
              "  });\n",
              "}\n",
              "\n",
              "/**\n",
              " * Generator function which is called between each async step of the upload\n",
              " * process.\n",
              " * @param {string} inputId Element ID of the input file picker element.\n",
              " * @param {string} outputId Element ID of the output display.\n",
              " * @return {!Iterable<!Object>} Iterable of next steps.\n",
              " */\n",
              "function* uploadFilesStep(inputId, outputId) {\n",
              "  const inputElement = document.getElementById(inputId);\n",
              "  inputElement.disabled = false;\n",
              "\n",
              "  const outputElement = document.getElementById(outputId);\n",
              "  outputElement.innerHTML = '';\n",
              "\n",
              "  const pickedPromise = new Promise((resolve) => {\n",
              "    inputElement.addEventListener('change', (e) => {\n",
              "      resolve(e.target.files);\n",
              "    });\n",
              "  });\n",
              "\n",
              "  const cancel = document.createElement('button');\n",
              "  inputElement.parentElement.appendChild(cancel);\n",
              "  cancel.textContent = 'Cancel upload';\n",
              "  const cancelPromise = new Promise((resolve) => {\n",
              "    cancel.onclick = () => {\n",
              "      resolve(null);\n",
              "    };\n",
              "  });\n",
              "\n",
              "  // Wait for the user to pick the files.\n",
              "  const files = yield {\n",
              "    promise: Promise.race([pickedPromise, cancelPromise]),\n",
              "    response: {\n",
              "      action: 'starting',\n",
              "    }\n",
              "  };\n",
              "\n",
              "  cancel.remove();\n",
              "\n",
              "  // Disable the input element since further picks are not allowed.\n",
              "  inputElement.disabled = true;\n",
              "\n",
              "  if (!files) {\n",
              "    return {\n",
              "      response: {\n",
              "        action: 'complete',\n",
              "      }\n",
              "    };\n",
              "  }\n",
              "\n",
              "  for (const file of files) {\n",
              "    const li = document.createElement('li');\n",
              "    li.append(span(file.name, {fontWeight: 'bold'}));\n",
              "    li.append(span(\n",
              "        `(${file.type || 'n/a'}) - ${file.size} bytes, ` +\n",
              "        `last modified: ${\n",
              "            file.lastModifiedDate ? file.lastModifiedDate.toLocaleDateString() :\n",
              "                                    'n/a'} - `));\n",
              "    const percent = span('0% done');\n",
              "    li.appendChild(percent);\n",
              "\n",
              "    outputElement.appendChild(li);\n",
              "\n",
              "    const fileDataPromise = new Promise((resolve) => {\n",
              "      const reader = new FileReader();\n",
              "      reader.onload = (e) => {\n",
              "        resolve(e.target.result);\n",
              "      };\n",
              "      reader.readAsArrayBuffer(file);\n",
              "    });\n",
              "    // Wait for the data to be ready.\n",
              "    let fileData = yield {\n",
              "      promise: fileDataPromise,\n",
              "      response: {\n",
              "        action: 'continue',\n",
              "      }\n",
              "    };\n",
              "\n",
              "    // Use a chunked sending to avoid message size limits. See b/62115660.\n",
              "    let position = 0;\n",
              "    do {\n",
              "      const length = Math.min(fileData.byteLength - position, MAX_PAYLOAD_SIZE);\n",
              "      const chunk = new Uint8Array(fileData, position, length);\n",
              "      position += length;\n",
              "\n",
              "      const base64 = btoa(String.fromCharCode.apply(null, chunk));\n",
              "      yield {\n",
              "        response: {\n",
              "          action: 'append',\n",
              "          file: file.name,\n",
              "          data: base64,\n",
              "        },\n",
              "      };\n",
              "\n",
              "      let percentDone = fileData.byteLength === 0 ?\n",
              "          100 :\n",
              "          Math.round((position / fileData.byteLength) * 100);\n",
              "      percent.textContent = `${percentDone}% done`;\n",
              "\n",
              "    } while (position < fileData.byteLength);\n",
              "  }\n",
              "\n",
              "  // All done.\n",
              "  yield {\n",
              "    response: {\n",
              "      action: 'complete',\n",
              "    }\n",
              "  };\n",
              "}\n",
              "\n",
              "scope.google = scope.google || {};\n",
              "scope.google.colab = scope.google.colab || {};\n",
              "scope.google.colab._files = {\n",
              "  _uploadFiles,\n",
              "  _uploadFilesContinue,\n",
              "};\n",
              "})(self);\n",
              "</script> "
            ]
          },
          "metadata": {}
        },
        {
          "output_type": "stream",
          "name": "stdout",
          "text": [
            "Saving 2017_StPaul_MN_Real_Estate.csv to 2017_StPaul_MN_Real_Estate.csv\n",
            "User uploaded file \"2017_StPaul_MN_Real_Estate.csv\" with length 4096739 bytes\n"
          ]
        }
      ]
    },
    {
      "cell_type": "code",
      "metadata": {
        "id": "p3kSb_tqibWA"
      },
      "source": [
        "# SOLUTION: Uncomment and execute the cell below to get help\n",
        "#disp(hint + '03-pandas-01')"
      ],
      "execution_count": null,
      "outputs": []
    },
    {
      "cell_type": "markdown",
      "metadata": {
        "id": "BHglyTyM7i8R"
      },
      "source": [
        "How many rows and columns are there in this dataset?"
      ]
    },
    {
      "cell_type": "code",
      "metadata": {
        "id": "SwA3ORSD7i8S",
        "colab": {
          "base_uri": "https://localhost:8080/"
        },
        "outputId": "dba3274e-b10f-4d38-8bb1-c8a807b273b8"
      },
      "source": [
        "# Your code goes here\n",
        "data = '2017_StPaul_MN_Real_Estate.csv'\n",
        "df1 = pd.read_csv(data)\n",
        "df1.shape"
      ],
      "execution_count": null,
      "outputs": [
        {
          "output_type": "execute_result",
          "data": {
            "text/plain": [
              "(5000, 74)"
            ]
          },
          "metadata": {},
          "execution_count": 13
        }
      ]
    },
    {
      "cell_type": "code",
      "metadata": {
        "id": "0iaLJQh7i26i",
        "colab": {
          "base_uri": "https://localhost:8080/",
          "height": 197
        },
        "outputId": "0e0c7aa7-5605-414b-cc37-4b54c8ec75e2"
      },
      "source": [
        "# SOLUTION: Uncomment and execute the cell below to get help\n",
        "#disp(hint + '03-pandas-02')"
      ],
      "execution_count": null,
      "outputs": [
        {
          "output_type": "error",
          "ename": "NameError",
          "evalue": "ignored",
          "traceback": [
            "\u001b[0;31m---------------------------------------------------------------------------\u001b[0m",
            "\u001b[0;31mNameError\u001b[0m                                 Traceback (most recent call last)",
            "\u001b[0;32m<ipython-input-8-6b675ae39d29>\u001b[0m in \u001b[0;36m<cell line: 2>\u001b[0;34m()\u001b[0m\n\u001b[1;32m      1\u001b[0m \u001b[0;31m# SOLUTION: Uncomment and execute the cell below to get help\u001b[0m\u001b[0;34m\u001b[0m\u001b[0;34m\u001b[0m\u001b[0m\n\u001b[0;32m----> 2\u001b[0;31m \u001b[0mdisp\u001b[0m\u001b[0;34m(\u001b[0m\u001b[0mhint\u001b[0m \u001b[0;34m+\u001b[0m \u001b[0;34m'03-pandas-02'\u001b[0m\u001b[0;34m)\u001b[0m\u001b[0;34m\u001b[0m\u001b[0;34m\u001b[0m\u001b[0m\n\u001b[0m",
            "\u001b[0;31mNameError\u001b[0m: name 'disp' is not defined"
          ]
        }
      ]
    },
    {
      "cell_type": "markdown",
      "metadata": {
        "id": "FUOgBO4C7i8W"
      },
      "source": [
        "Use the `.format()` method on string to print a readable text based on this info. Here is an example:\n",
        "\n",
        "```python\n",
        "a = 10\n",
        "print(\"The value of a is {} hence a * 3 becomes {}.\".format(a, a*3))\n",
        "```\n",
        "> The value of a is 10 hence a * 3 becomes 30."
      ]
    },
    {
      "cell_type": "code",
      "metadata": {
        "id": "Eo5BrmoD7i8W",
        "colab": {
          "base_uri": "https://localhost:8080/"
        },
        "outputId": "8efbad3a-0f61-4cf4-d320-6bed89421f00"
      },
      "source": [
        "num_rows, num_columns = df1.shape\n",
        "\n",
        "# Create a formatted string to display the information\n",
        "info_text = \"The dataset has {} rows and {} columns.\".format(num_rows, num_columns)\n",
        "\n",
        "print(info_text)\n"
      ],
      "execution_count": null,
      "outputs": [
        {
          "output_type": "stream",
          "name": "stdout",
          "text": [
            "The dataset has 5000 rows and 74 columns.\n"
          ]
        }
      ]
    },
    {
      "cell_type": "code",
      "metadata": {
        "id": "MKLRaTp7jEtj"
      },
      "source": [
        "# SOLUTION: Uncomment and execute the cell below to get help\n",
        "#disp(hint + '03-pandas-03')"
      ],
      "execution_count": null,
      "outputs": []
    },
    {
      "cell_type": "markdown",
      "metadata": {
        "id": "czRzKJCw7i8Z"
      },
      "source": [
        "This dataset has too many columns to study. To start, let's create a new dataset with a smaller number of attributes. To do this, use the following list, `subset_columns`:"
      ]
    },
    {
      "cell_type": "code",
      "metadata": {
        "id": "JDe5c4gR7i8a"
      },
      "source": [
        "subset_columns = ['streetaddress','STREETNAME', 'PostalCode', 'StateOrProvince', 'City', 'SchoolDistrictNumber',\n",
        "                  'SalesClosePrice', 'LISTDATE', 'offmarketdate', 'LISTPRICE', 'LISTTYPE',\n",
        "                  'OriginalListPrice', 'PricePerTSFT', 'DAYSONMARKET', 'ROOF',\n",
        "                  'SQFTABOVEGROUND', 'RoomArea1', 'YEARBUILT']"
      ],
      "execution_count": null,
      "outputs": []
    },
    {
      "cell_type": "markdown",
      "metadata": {
        "id": "U05COR6c7i8c"
      },
      "source": [
        "Using the list above create a new DataFrame called `df` that includes the columns specified. One can subset the columns by simply passing a list of the columns to the DataFrame, e.g., `DF[['col1', 'col2']]`. Have in mind that ['col1', 'col2'] was defined in the previous cell, so you can just use it:"
      ]
    },
    {
      "cell_type": "code",
      "metadata": {
        "id": "8Y25b29h7i8d",
        "colab": {
          "base_uri": "https://localhost:8080/",
          "height": 573
        },
        "outputId": "1d1d0797-b2fc-4556-de9d-0a46006fb029"
      },
      "source": [
        "# Your code goes here\n",
        "df = df[subset_columns]\n",
        "df.head()"
      ],
      "execution_count": null,
      "outputs": [
        {
          "output_type": "execute_result",
          "data": {
            "text/plain": [
              "             streetaddress  STREETNAME  PostalCode StateOrProvince  \\\n",
              "0  11511 Stillwater Blvd N  Stillwater       55042              MN   \n",
              "1          11200 31st St N        31st       55042              MN   \n",
              "2   8583 Stillwater Blvd N  Stillwater       55042              MN   \n",
              "3           9350 31st St N        31st       55042              MN   \n",
              "4        2915 Inwood Ave N      Inwood       55042              MN   \n",
              "\n",
              "               City           SchoolDistrictNumber  SalesClosePrice  \\\n",
              "0  LELM - Lake Elmo               834 - Stillwater           143000   \n",
              "1  LELM - Lake Elmo               834 - Stillwater           190000   \n",
              "2  LELM - Lake Elmo  622 - North St Paul-Maplewood           225000   \n",
              "3  LELM - Lake Elmo               834 - Stillwater           265000   \n",
              "4  LELM - Lake Elmo  622 - North St Paul-Maplewood           249900   \n",
              "\n",
              "         LISTDATE    offmarketdate  LISTPRICE         LISTTYPE  \\\n",
              "0  7/15/2017 0:00   7/30/2017 0:00     139900  Exclusive Right   \n",
              "1  10/9/2017 0:00  10/13/2017 0:00     210000  Exclusive Right   \n",
              "2  6/26/2017 0:00   7/24/2017 0:00     225000  Exclusive Right   \n",
              "3  8/25/2017 0:00   9/13/2017 0:00     230000  Exclusive Right   \n",
              "4  9/12/2017 0:00   10/3/2017 0:00     239900  Exclusive Right   \n",
              "\n",
              "   OriginalListPrice  PricePerTSFT  DAYSONMARKET  \\\n",
              "0             139900      145.9184            10   \n",
              "1             210000       85.2783             4   \n",
              "2             225000      204.1742            28   \n",
              "3             230000      162.3775            19   \n",
              "4             239900      121.7836            21   \n",
              "\n",
              "                                             ROOF  SQFTABOVEGROUND RoomArea1  \\\n",
              "0                                             NaN              980   16 x 13   \n",
              "1  Asphalt Shingles, Pitched, Age 8 Years or Less             1268     22x14   \n",
              "2                                             NaN             1102     20x13   \n",
              "3  Asphalt Shingles, Pitched, Age 8 Years or Less             1284       NaN   \n",
              "4              Asphalt Shingles, Age Over 8 Years             1026     22x14   \n",
              "\n",
              "   YEARBUILT  \n",
              "0       1950  \n",
              "1       1971  \n",
              "2       1949  \n",
              "3       1960  \n",
              "4       1978  "
            ],
            "text/html": [
              "\n",
              "  <div id=\"df-4d8bab76-d111-4696-aaf0-dc492554a423\" class=\"colab-df-container\">\n",
              "    <div>\n",
              "<style scoped>\n",
              "    .dataframe tbody tr th:only-of-type {\n",
              "        vertical-align: middle;\n",
              "    }\n",
              "\n",
              "    .dataframe tbody tr th {\n",
              "        vertical-align: top;\n",
              "    }\n",
              "\n",
              "    .dataframe thead th {\n",
              "        text-align: right;\n",
              "    }\n",
              "</style>\n",
              "<table border=\"1\" class=\"dataframe\">\n",
              "  <thead>\n",
              "    <tr style=\"text-align: right;\">\n",
              "      <th></th>\n",
              "      <th>streetaddress</th>\n",
              "      <th>STREETNAME</th>\n",
              "      <th>PostalCode</th>\n",
              "      <th>StateOrProvince</th>\n",
              "      <th>City</th>\n",
              "      <th>SchoolDistrictNumber</th>\n",
              "      <th>SalesClosePrice</th>\n",
              "      <th>LISTDATE</th>\n",
              "      <th>offmarketdate</th>\n",
              "      <th>LISTPRICE</th>\n",
              "      <th>LISTTYPE</th>\n",
              "      <th>OriginalListPrice</th>\n",
              "      <th>PricePerTSFT</th>\n",
              "      <th>DAYSONMARKET</th>\n",
              "      <th>ROOF</th>\n",
              "      <th>SQFTABOVEGROUND</th>\n",
              "      <th>RoomArea1</th>\n",
              "      <th>YEARBUILT</th>\n",
              "    </tr>\n",
              "  </thead>\n",
              "  <tbody>\n",
              "    <tr>\n",
              "      <th>0</th>\n",
              "      <td>11511 Stillwater Blvd N</td>\n",
              "      <td>Stillwater</td>\n",
              "      <td>55042</td>\n",
              "      <td>MN</td>\n",
              "      <td>LELM - Lake Elmo</td>\n",
              "      <td>834 - Stillwater</td>\n",
              "      <td>143000</td>\n",
              "      <td>7/15/2017 0:00</td>\n",
              "      <td>7/30/2017 0:00</td>\n",
              "      <td>139900</td>\n",
              "      <td>Exclusive Right</td>\n",
              "      <td>139900</td>\n",
              "      <td>145.9184</td>\n",
              "      <td>10</td>\n",
              "      <td>NaN</td>\n",
              "      <td>980</td>\n",
              "      <td>16 x 13</td>\n",
              "      <td>1950</td>\n",
              "    </tr>\n",
              "    <tr>\n",
              "      <th>1</th>\n",
              "      <td>11200 31st St N</td>\n",
              "      <td>31st</td>\n",
              "      <td>55042</td>\n",
              "      <td>MN</td>\n",
              "      <td>LELM - Lake Elmo</td>\n",
              "      <td>834 - Stillwater</td>\n",
              "      <td>190000</td>\n",
              "      <td>10/9/2017 0:00</td>\n",
              "      <td>10/13/2017 0:00</td>\n",
              "      <td>210000</td>\n",
              "      <td>Exclusive Right</td>\n",
              "      <td>210000</td>\n",
              "      <td>85.2783</td>\n",
              "      <td>4</td>\n",
              "      <td>Asphalt Shingles, Pitched, Age 8 Years or Less</td>\n",
              "      <td>1268</td>\n",
              "      <td>22x14</td>\n",
              "      <td>1971</td>\n",
              "    </tr>\n",
              "    <tr>\n",
              "      <th>2</th>\n",
              "      <td>8583 Stillwater Blvd N</td>\n",
              "      <td>Stillwater</td>\n",
              "      <td>55042</td>\n",
              "      <td>MN</td>\n",
              "      <td>LELM - Lake Elmo</td>\n",
              "      <td>622 - North St Paul-Maplewood</td>\n",
              "      <td>225000</td>\n",
              "      <td>6/26/2017 0:00</td>\n",
              "      <td>7/24/2017 0:00</td>\n",
              "      <td>225000</td>\n",
              "      <td>Exclusive Right</td>\n",
              "      <td>225000</td>\n",
              "      <td>204.1742</td>\n",
              "      <td>28</td>\n",
              "      <td>NaN</td>\n",
              "      <td>1102</td>\n",
              "      <td>20x13</td>\n",
              "      <td>1949</td>\n",
              "    </tr>\n",
              "    <tr>\n",
              "      <th>3</th>\n",
              "      <td>9350 31st St N</td>\n",
              "      <td>31st</td>\n",
              "      <td>55042</td>\n",
              "      <td>MN</td>\n",
              "      <td>LELM - Lake Elmo</td>\n",
              "      <td>834 - Stillwater</td>\n",
              "      <td>265000</td>\n",
              "      <td>8/25/2017 0:00</td>\n",
              "      <td>9/13/2017 0:00</td>\n",
              "      <td>230000</td>\n",
              "      <td>Exclusive Right</td>\n",
              "      <td>230000</td>\n",
              "      <td>162.3775</td>\n",
              "      <td>19</td>\n",
              "      <td>Asphalt Shingles, Pitched, Age 8 Years or Less</td>\n",
              "      <td>1284</td>\n",
              "      <td>NaN</td>\n",
              "      <td>1960</td>\n",
              "    </tr>\n",
              "    <tr>\n",
              "      <th>4</th>\n",
              "      <td>2915 Inwood Ave N</td>\n",
              "      <td>Inwood</td>\n",
              "      <td>55042</td>\n",
              "      <td>MN</td>\n",
              "      <td>LELM - Lake Elmo</td>\n",
              "      <td>622 - North St Paul-Maplewood</td>\n",
              "      <td>249900</td>\n",
              "      <td>9/12/2017 0:00</td>\n",
              "      <td>10/3/2017 0:00</td>\n",
              "      <td>239900</td>\n",
              "      <td>Exclusive Right</td>\n",
              "      <td>239900</td>\n",
              "      <td>121.7836</td>\n",
              "      <td>21</td>\n",
              "      <td>Asphalt Shingles, Age Over 8 Years</td>\n",
              "      <td>1026</td>\n",
              "      <td>22x14</td>\n",
              "      <td>1978</td>\n",
              "    </tr>\n",
              "  </tbody>\n",
              "</table>\n",
              "</div>\n",
              "    <div class=\"colab-df-buttons\">\n",
              "\n",
              "  <div class=\"colab-df-container\">\n",
              "    <button class=\"colab-df-convert\" onclick=\"convertToInteractive('df-4d8bab76-d111-4696-aaf0-dc492554a423')\"\n",
              "            title=\"Convert this dataframe to an interactive table.\"\n",
              "            style=\"display:none;\">\n",
              "\n",
              "  <svg xmlns=\"http://www.w3.org/2000/svg\" height=\"24px\" viewBox=\"0 -960 960 960\">\n",
              "    <path d=\"M120-120v-720h720v720H120Zm60-500h600v-160H180v160Zm220 220h160v-160H400v160Zm0 220h160v-160H400v160ZM180-400h160v-160H180v160Zm440 0h160v-160H620v160ZM180-180h160v-160H180v160Zm440 0h160v-160H620v160Z\"/>\n",
              "  </svg>\n",
              "    </button>\n",
              "\n",
              "  <style>\n",
              "    .colab-df-container {\n",
              "      display:flex;\n",
              "      gap: 12px;\n",
              "    }\n",
              "\n",
              "    .colab-df-convert {\n",
              "      background-color: #E8F0FE;\n",
              "      border: none;\n",
              "      border-radius: 50%;\n",
              "      cursor: pointer;\n",
              "      display: none;\n",
              "      fill: #1967D2;\n",
              "      height: 32px;\n",
              "      padding: 0 0 0 0;\n",
              "      width: 32px;\n",
              "    }\n",
              "\n",
              "    .colab-df-convert:hover {\n",
              "      background-color: #E2EBFA;\n",
              "      box-shadow: 0px 1px 2px rgba(60, 64, 67, 0.3), 0px 1px 3px 1px rgba(60, 64, 67, 0.15);\n",
              "      fill: #174EA6;\n",
              "    }\n",
              "\n",
              "    .colab-df-buttons div {\n",
              "      margin-bottom: 4px;\n",
              "    }\n",
              "\n",
              "    [theme=dark] .colab-df-convert {\n",
              "      background-color: #3B4455;\n",
              "      fill: #D2E3FC;\n",
              "    }\n",
              "\n",
              "    [theme=dark] .colab-df-convert:hover {\n",
              "      background-color: #434B5C;\n",
              "      box-shadow: 0px 1px 3px 1px rgba(0, 0, 0, 0.15);\n",
              "      filter: drop-shadow(0px 1px 2px rgba(0, 0, 0, 0.3));\n",
              "      fill: #FFFFFF;\n",
              "    }\n",
              "  </style>\n",
              "\n",
              "    <script>\n",
              "      const buttonEl =\n",
              "        document.querySelector('#df-4d8bab76-d111-4696-aaf0-dc492554a423 button.colab-df-convert');\n",
              "      buttonEl.style.display =\n",
              "        google.colab.kernel.accessAllowed ? 'block' : 'none';\n",
              "\n",
              "      async function convertToInteractive(key) {\n",
              "        const element = document.querySelector('#df-4d8bab76-d111-4696-aaf0-dc492554a423');\n",
              "        const dataTable =\n",
              "          await google.colab.kernel.invokeFunction('convertToInteractive',\n",
              "                                                    [key], {});\n",
              "        if (!dataTable) return;\n",
              "\n",
              "        const docLinkHtml = 'Like what you see? Visit the ' +\n",
              "          '<a target=\"_blank\" href=https://colab.research.google.com/notebooks/data_table.ipynb>data table notebook</a>'\n",
              "          + ' to learn more about interactive tables.';\n",
              "        element.innerHTML = '';\n",
              "        dataTable['output_type'] = 'display_data';\n",
              "        await google.colab.output.renderOutput(dataTable, element);\n",
              "        const docLink = document.createElement('div');\n",
              "        docLink.innerHTML = docLinkHtml;\n",
              "        element.appendChild(docLink);\n",
              "      }\n",
              "    </script>\n",
              "  </div>\n",
              "\n",
              "\n",
              "<div id=\"df-13ffaad7-c040-4f65-9d16-790ce5c5a3c5\">\n",
              "  <button class=\"colab-df-quickchart\" onclick=\"quickchart('df-13ffaad7-c040-4f65-9d16-790ce5c5a3c5')\"\n",
              "            title=\"Suggest charts.\"\n",
              "            style=\"display:none;\">\n",
              "\n",
              "<svg xmlns=\"http://www.w3.org/2000/svg\" height=\"24px\"viewBox=\"0 0 24 24\"\n",
              "     width=\"24px\">\n",
              "    <g>\n",
              "        <path d=\"M19 3H5c-1.1 0-2 .9-2 2v14c0 1.1.9 2 2 2h14c1.1 0 2-.9 2-2V5c0-1.1-.9-2-2-2zM9 17H7v-7h2v7zm4 0h-2V7h2v10zm4 0h-2v-4h2v4z\"/>\n",
              "    </g>\n",
              "</svg>\n",
              "  </button>\n",
              "\n",
              "<style>\n",
              "  .colab-df-quickchart {\n",
              "      --bg-color: #E8F0FE;\n",
              "      --fill-color: #1967D2;\n",
              "      --hover-bg-color: #E2EBFA;\n",
              "      --hover-fill-color: #174EA6;\n",
              "      --disabled-fill-color: #AAA;\n",
              "      --disabled-bg-color: #DDD;\n",
              "  }\n",
              "\n",
              "  [theme=dark] .colab-df-quickchart {\n",
              "      --bg-color: #3B4455;\n",
              "      --fill-color: #D2E3FC;\n",
              "      --hover-bg-color: #434B5C;\n",
              "      --hover-fill-color: #FFFFFF;\n",
              "      --disabled-bg-color: #3B4455;\n",
              "      --disabled-fill-color: #666;\n",
              "  }\n",
              "\n",
              "  .colab-df-quickchart {\n",
              "    background-color: var(--bg-color);\n",
              "    border: none;\n",
              "    border-radius: 50%;\n",
              "    cursor: pointer;\n",
              "    display: none;\n",
              "    fill: var(--fill-color);\n",
              "    height: 32px;\n",
              "    padding: 0;\n",
              "    width: 32px;\n",
              "  }\n",
              "\n",
              "  .colab-df-quickchart:hover {\n",
              "    background-color: var(--hover-bg-color);\n",
              "    box-shadow: 0 1px 2px rgba(60, 64, 67, 0.3), 0 1px 3px 1px rgba(60, 64, 67, 0.15);\n",
              "    fill: var(--button-hover-fill-color);\n",
              "  }\n",
              "\n",
              "  .colab-df-quickchart-complete:disabled,\n",
              "  .colab-df-quickchart-complete:disabled:hover {\n",
              "    background-color: var(--disabled-bg-color);\n",
              "    fill: var(--disabled-fill-color);\n",
              "    box-shadow: none;\n",
              "  }\n",
              "\n",
              "  .colab-df-spinner {\n",
              "    border: 2px solid var(--fill-color);\n",
              "    border-color: transparent;\n",
              "    border-bottom-color: var(--fill-color);\n",
              "    animation:\n",
              "      spin 1s steps(1) infinite;\n",
              "  }\n",
              "\n",
              "  @keyframes spin {\n",
              "    0% {\n",
              "      border-color: transparent;\n",
              "      border-bottom-color: var(--fill-color);\n",
              "      border-left-color: var(--fill-color);\n",
              "    }\n",
              "    20% {\n",
              "      border-color: transparent;\n",
              "      border-left-color: var(--fill-color);\n",
              "      border-top-color: var(--fill-color);\n",
              "    }\n",
              "    30% {\n",
              "      border-color: transparent;\n",
              "      border-left-color: var(--fill-color);\n",
              "      border-top-color: var(--fill-color);\n",
              "      border-right-color: var(--fill-color);\n",
              "    }\n",
              "    40% {\n",
              "      border-color: transparent;\n",
              "      border-right-color: var(--fill-color);\n",
              "      border-top-color: var(--fill-color);\n",
              "    }\n",
              "    60% {\n",
              "      border-color: transparent;\n",
              "      border-right-color: var(--fill-color);\n",
              "    }\n",
              "    80% {\n",
              "      border-color: transparent;\n",
              "      border-right-color: var(--fill-color);\n",
              "      border-bottom-color: var(--fill-color);\n",
              "    }\n",
              "    90% {\n",
              "      border-color: transparent;\n",
              "      border-bottom-color: var(--fill-color);\n",
              "    }\n",
              "  }\n",
              "</style>\n",
              "\n",
              "  <script>\n",
              "    async function quickchart(key) {\n",
              "      const quickchartButtonEl =\n",
              "        document.querySelector('#' + key + ' button');\n",
              "      quickchartButtonEl.disabled = true;  // To prevent multiple clicks.\n",
              "      quickchartButtonEl.classList.add('colab-df-spinner');\n",
              "      try {\n",
              "        const charts = await google.colab.kernel.invokeFunction(\n",
              "            'suggestCharts', [key], {});\n",
              "      } catch (error) {\n",
              "        console.error('Error during call to suggestCharts:', error);\n",
              "      }\n",
              "      quickchartButtonEl.classList.remove('colab-df-spinner');\n",
              "      quickchartButtonEl.classList.add('colab-df-quickchart-complete');\n",
              "    }\n",
              "    (() => {\n",
              "      let quickchartButtonEl =\n",
              "        document.querySelector('#df-13ffaad7-c040-4f65-9d16-790ce5c5a3c5 button');\n",
              "      quickchartButtonEl.style.display =\n",
              "        google.colab.kernel.accessAllowed ? 'block' : 'none';\n",
              "    })();\n",
              "  </script>\n",
              "</div>\n",
              "    </div>\n",
              "  </div>\n"
            ]
          },
          "metadata": {},
          "execution_count": 17
        }
      ]
    },
    {
      "cell_type": "code",
      "metadata": {
        "id": "iyqH2rY4jKb6"
      },
      "source": [
        "# SOLUTION: Uncomment and execute the cell below to get help\n",
        "#disp(hint + '03-pandas-04')"
      ],
      "execution_count": null,
      "outputs": []
    },
    {
      "cell_type": "markdown",
      "metadata": {
        "id": "CEAoXLtg7i8g"
      },
      "source": [
        "Check the number of rows and columns on `df`:"
      ]
    },
    {
      "cell_type": "code",
      "metadata": {
        "id": "-KDuImH-7i8h",
        "colab": {
          "base_uri": "https://localhost:8080/"
        },
        "outputId": "4f470492-7dc2-4c8a-d8f4-130ec2871dc5"
      },
      "source": [
        "# Your code goes here\n",
        "df.shape"
      ],
      "execution_count": null,
      "outputs": [
        {
          "output_type": "execute_result",
          "data": {
            "text/plain": [
              "(5000, 18)"
            ]
          },
          "metadata": {},
          "execution_count": 18
        }
      ]
    },
    {
      "cell_type": "code",
      "metadata": {
        "id": "BOnI5-yHjPVd"
      },
      "source": [
        "# SOLUTION: Uncomment and execute the cell below to get help\n",
        "#disp(hint + '03-pandas-05')"
      ],
      "execution_count": null,
      "outputs": []
    },
    {
      "cell_type": "markdown",
      "metadata": {
        "id": "f8IsqRAu7i8j"
      },
      "source": [
        "Let's have a look at the first few rows of `df`:"
      ]
    },
    {
      "cell_type": "code",
      "metadata": {
        "id": "vDNuQJGT7i8k",
        "colab": {
          "base_uri": "https://localhost:8080/",
          "height": 573
        },
        "outputId": "28389e6d-eeca-4341-c281-8c9b23e93e03"
      },
      "source": [
        "# Your code goes here\n",
        "df.head()"
      ],
      "execution_count": null,
      "outputs": [
        {
          "output_type": "execute_result",
          "data": {
            "text/plain": [
              "             streetaddress  STREETNAME  PostalCode StateOrProvince  \\\n",
              "0  11511 Stillwater Blvd N  Stillwater       55042              MN   \n",
              "1          11200 31st St N        31st       55042              MN   \n",
              "2   8583 Stillwater Blvd N  Stillwater       55042              MN   \n",
              "3           9350 31st St N        31st       55042              MN   \n",
              "4        2915 Inwood Ave N      Inwood       55042              MN   \n",
              "\n",
              "               City           SchoolDistrictNumber  SalesClosePrice  \\\n",
              "0  LELM - Lake Elmo               834 - Stillwater           143000   \n",
              "1  LELM - Lake Elmo               834 - Stillwater           190000   \n",
              "2  LELM - Lake Elmo  622 - North St Paul-Maplewood           225000   \n",
              "3  LELM - Lake Elmo               834 - Stillwater           265000   \n",
              "4  LELM - Lake Elmo  622 - North St Paul-Maplewood           249900   \n",
              "\n",
              "         LISTDATE    offmarketdate  LISTPRICE         LISTTYPE  \\\n",
              "0  7/15/2017 0:00   7/30/2017 0:00     139900  Exclusive Right   \n",
              "1  10/9/2017 0:00  10/13/2017 0:00     210000  Exclusive Right   \n",
              "2  6/26/2017 0:00   7/24/2017 0:00     225000  Exclusive Right   \n",
              "3  8/25/2017 0:00   9/13/2017 0:00     230000  Exclusive Right   \n",
              "4  9/12/2017 0:00   10/3/2017 0:00     239900  Exclusive Right   \n",
              "\n",
              "   OriginalListPrice  PricePerTSFT  DAYSONMARKET  \\\n",
              "0             139900      145.9184            10   \n",
              "1             210000       85.2783             4   \n",
              "2             225000      204.1742            28   \n",
              "3             230000      162.3775            19   \n",
              "4             239900      121.7836            21   \n",
              "\n",
              "                                             ROOF  SQFTABOVEGROUND RoomArea1  \\\n",
              "0                                             NaN              980   16 x 13   \n",
              "1  Asphalt Shingles, Pitched, Age 8 Years or Less             1268     22x14   \n",
              "2                                             NaN             1102     20x13   \n",
              "3  Asphalt Shingles, Pitched, Age 8 Years or Less             1284       NaN   \n",
              "4              Asphalt Shingles, Age Over 8 Years             1026     22x14   \n",
              "\n",
              "   YEARBUILT  \n",
              "0       1950  \n",
              "1       1971  \n",
              "2       1949  \n",
              "3       1960  \n",
              "4       1978  "
            ],
            "text/html": [
              "\n",
              "  <div id=\"df-ec009d11-cc42-48bf-bd1f-ef3d475bc25d\" class=\"colab-df-container\">\n",
              "    <div>\n",
              "<style scoped>\n",
              "    .dataframe tbody tr th:only-of-type {\n",
              "        vertical-align: middle;\n",
              "    }\n",
              "\n",
              "    .dataframe tbody tr th {\n",
              "        vertical-align: top;\n",
              "    }\n",
              "\n",
              "    .dataframe thead th {\n",
              "        text-align: right;\n",
              "    }\n",
              "</style>\n",
              "<table border=\"1\" class=\"dataframe\">\n",
              "  <thead>\n",
              "    <tr style=\"text-align: right;\">\n",
              "      <th></th>\n",
              "      <th>streetaddress</th>\n",
              "      <th>STREETNAME</th>\n",
              "      <th>PostalCode</th>\n",
              "      <th>StateOrProvince</th>\n",
              "      <th>City</th>\n",
              "      <th>SchoolDistrictNumber</th>\n",
              "      <th>SalesClosePrice</th>\n",
              "      <th>LISTDATE</th>\n",
              "      <th>offmarketdate</th>\n",
              "      <th>LISTPRICE</th>\n",
              "      <th>LISTTYPE</th>\n",
              "      <th>OriginalListPrice</th>\n",
              "      <th>PricePerTSFT</th>\n",
              "      <th>DAYSONMARKET</th>\n",
              "      <th>ROOF</th>\n",
              "      <th>SQFTABOVEGROUND</th>\n",
              "      <th>RoomArea1</th>\n",
              "      <th>YEARBUILT</th>\n",
              "    </tr>\n",
              "  </thead>\n",
              "  <tbody>\n",
              "    <tr>\n",
              "      <th>0</th>\n",
              "      <td>11511 Stillwater Blvd N</td>\n",
              "      <td>Stillwater</td>\n",
              "      <td>55042</td>\n",
              "      <td>MN</td>\n",
              "      <td>LELM - Lake Elmo</td>\n",
              "      <td>834 - Stillwater</td>\n",
              "      <td>143000</td>\n",
              "      <td>7/15/2017 0:00</td>\n",
              "      <td>7/30/2017 0:00</td>\n",
              "      <td>139900</td>\n",
              "      <td>Exclusive Right</td>\n",
              "      <td>139900</td>\n",
              "      <td>145.9184</td>\n",
              "      <td>10</td>\n",
              "      <td>NaN</td>\n",
              "      <td>980</td>\n",
              "      <td>16 x 13</td>\n",
              "      <td>1950</td>\n",
              "    </tr>\n",
              "    <tr>\n",
              "      <th>1</th>\n",
              "      <td>11200 31st St N</td>\n",
              "      <td>31st</td>\n",
              "      <td>55042</td>\n",
              "      <td>MN</td>\n",
              "      <td>LELM - Lake Elmo</td>\n",
              "      <td>834 - Stillwater</td>\n",
              "      <td>190000</td>\n",
              "      <td>10/9/2017 0:00</td>\n",
              "      <td>10/13/2017 0:00</td>\n",
              "      <td>210000</td>\n",
              "      <td>Exclusive Right</td>\n",
              "      <td>210000</td>\n",
              "      <td>85.2783</td>\n",
              "      <td>4</td>\n",
              "      <td>Asphalt Shingles, Pitched, Age 8 Years or Less</td>\n",
              "      <td>1268</td>\n",
              "      <td>22x14</td>\n",
              "      <td>1971</td>\n",
              "    </tr>\n",
              "    <tr>\n",
              "      <th>2</th>\n",
              "      <td>8583 Stillwater Blvd N</td>\n",
              "      <td>Stillwater</td>\n",
              "      <td>55042</td>\n",
              "      <td>MN</td>\n",
              "      <td>LELM - Lake Elmo</td>\n",
              "      <td>622 - North St Paul-Maplewood</td>\n",
              "      <td>225000</td>\n",
              "      <td>6/26/2017 0:00</td>\n",
              "      <td>7/24/2017 0:00</td>\n",
              "      <td>225000</td>\n",
              "      <td>Exclusive Right</td>\n",
              "      <td>225000</td>\n",
              "      <td>204.1742</td>\n",
              "      <td>28</td>\n",
              "      <td>NaN</td>\n",
              "      <td>1102</td>\n",
              "      <td>20x13</td>\n",
              "      <td>1949</td>\n",
              "    </tr>\n",
              "    <tr>\n",
              "      <th>3</th>\n",
              "      <td>9350 31st St N</td>\n",
              "      <td>31st</td>\n",
              "      <td>55042</td>\n",
              "      <td>MN</td>\n",
              "      <td>LELM - Lake Elmo</td>\n",
              "      <td>834 - Stillwater</td>\n",
              "      <td>265000</td>\n",
              "      <td>8/25/2017 0:00</td>\n",
              "      <td>9/13/2017 0:00</td>\n",
              "      <td>230000</td>\n",
              "      <td>Exclusive Right</td>\n",
              "      <td>230000</td>\n",
              "      <td>162.3775</td>\n",
              "      <td>19</td>\n",
              "      <td>Asphalt Shingles, Pitched, Age 8 Years or Less</td>\n",
              "      <td>1284</td>\n",
              "      <td>NaN</td>\n",
              "      <td>1960</td>\n",
              "    </tr>\n",
              "    <tr>\n",
              "      <th>4</th>\n",
              "      <td>2915 Inwood Ave N</td>\n",
              "      <td>Inwood</td>\n",
              "      <td>55042</td>\n",
              "      <td>MN</td>\n",
              "      <td>LELM - Lake Elmo</td>\n",
              "      <td>622 - North St Paul-Maplewood</td>\n",
              "      <td>249900</td>\n",
              "      <td>9/12/2017 0:00</td>\n",
              "      <td>10/3/2017 0:00</td>\n",
              "      <td>239900</td>\n",
              "      <td>Exclusive Right</td>\n",
              "      <td>239900</td>\n",
              "      <td>121.7836</td>\n",
              "      <td>21</td>\n",
              "      <td>Asphalt Shingles, Age Over 8 Years</td>\n",
              "      <td>1026</td>\n",
              "      <td>22x14</td>\n",
              "      <td>1978</td>\n",
              "    </tr>\n",
              "  </tbody>\n",
              "</table>\n",
              "</div>\n",
              "    <div class=\"colab-df-buttons\">\n",
              "\n",
              "  <div class=\"colab-df-container\">\n",
              "    <button class=\"colab-df-convert\" onclick=\"convertToInteractive('df-ec009d11-cc42-48bf-bd1f-ef3d475bc25d')\"\n",
              "            title=\"Convert this dataframe to an interactive table.\"\n",
              "            style=\"display:none;\">\n",
              "\n",
              "  <svg xmlns=\"http://www.w3.org/2000/svg\" height=\"24px\" viewBox=\"0 -960 960 960\">\n",
              "    <path d=\"M120-120v-720h720v720H120Zm60-500h600v-160H180v160Zm220 220h160v-160H400v160Zm0 220h160v-160H400v160ZM180-400h160v-160H180v160Zm440 0h160v-160H620v160ZM180-180h160v-160H180v160Zm440 0h160v-160H620v160Z\"/>\n",
              "  </svg>\n",
              "    </button>\n",
              "\n",
              "  <style>\n",
              "    .colab-df-container {\n",
              "      display:flex;\n",
              "      gap: 12px;\n",
              "    }\n",
              "\n",
              "    .colab-df-convert {\n",
              "      background-color: #E8F0FE;\n",
              "      border: none;\n",
              "      border-radius: 50%;\n",
              "      cursor: pointer;\n",
              "      display: none;\n",
              "      fill: #1967D2;\n",
              "      height: 32px;\n",
              "      padding: 0 0 0 0;\n",
              "      width: 32px;\n",
              "    }\n",
              "\n",
              "    .colab-df-convert:hover {\n",
              "      background-color: #E2EBFA;\n",
              "      box-shadow: 0px 1px 2px rgba(60, 64, 67, 0.3), 0px 1px 3px 1px rgba(60, 64, 67, 0.15);\n",
              "      fill: #174EA6;\n",
              "    }\n",
              "\n",
              "    .colab-df-buttons div {\n",
              "      margin-bottom: 4px;\n",
              "    }\n",
              "\n",
              "    [theme=dark] .colab-df-convert {\n",
              "      background-color: #3B4455;\n",
              "      fill: #D2E3FC;\n",
              "    }\n",
              "\n",
              "    [theme=dark] .colab-df-convert:hover {\n",
              "      background-color: #434B5C;\n",
              "      box-shadow: 0px 1px 3px 1px rgba(0, 0, 0, 0.15);\n",
              "      filter: drop-shadow(0px 1px 2px rgba(0, 0, 0, 0.3));\n",
              "      fill: #FFFFFF;\n",
              "    }\n",
              "  </style>\n",
              "\n",
              "    <script>\n",
              "      const buttonEl =\n",
              "        document.querySelector('#df-ec009d11-cc42-48bf-bd1f-ef3d475bc25d button.colab-df-convert');\n",
              "      buttonEl.style.display =\n",
              "        google.colab.kernel.accessAllowed ? 'block' : 'none';\n",
              "\n",
              "      async function convertToInteractive(key) {\n",
              "        const element = document.querySelector('#df-ec009d11-cc42-48bf-bd1f-ef3d475bc25d');\n",
              "        const dataTable =\n",
              "          await google.colab.kernel.invokeFunction('convertToInteractive',\n",
              "                                                    [key], {});\n",
              "        if (!dataTable) return;\n",
              "\n",
              "        const docLinkHtml = 'Like what you see? Visit the ' +\n",
              "          '<a target=\"_blank\" href=https://colab.research.google.com/notebooks/data_table.ipynb>data table notebook</a>'\n",
              "          + ' to learn more about interactive tables.';\n",
              "        element.innerHTML = '';\n",
              "        dataTable['output_type'] = 'display_data';\n",
              "        await google.colab.output.renderOutput(dataTable, element);\n",
              "        const docLink = document.createElement('div');\n",
              "        docLink.innerHTML = docLinkHtml;\n",
              "        element.appendChild(docLink);\n",
              "      }\n",
              "    </script>\n",
              "  </div>\n",
              "\n",
              "\n",
              "<div id=\"df-4db6eea7-c82a-4df9-acd6-882aed6274d2\">\n",
              "  <button class=\"colab-df-quickchart\" onclick=\"quickchart('df-4db6eea7-c82a-4df9-acd6-882aed6274d2')\"\n",
              "            title=\"Suggest charts.\"\n",
              "            style=\"display:none;\">\n",
              "\n",
              "<svg xmlns=\"http://www.w3.org/2000/svg\" height=\"24px\"viewBox=\"0 0 24 24\"\n",
              "     width=\"24px\">\n",
              "    <g>\n",
              "        <path d=\"M19 3H5c-1.1 0-2 .9-2 2v14c0 1.1.9 2 2 2h14c1.1 0 2-.9 2-2V5c0-1.1-.9-2-2-2zM9 17H7v-7h2v7zm4 0h-2V7h2v10zm4 0h-2v-4h2v4z\"/>\n",
              "    </g>\n",
              "</svg>\n",
              "  </button>\n",
              "\n",
              "<style>\n",
              "  .colab-df-quickchart {\n",
              "      --bg-color: #E8F0FE;\n",
              "      --fill-color: #1967D2;\n",
              "      --hover-bg-color: #E2EBFA;\n",
              "      --hover-fill-color: #174EA6;\n",
              "      --disabled-fill-color: #AAA;\n",
              "      --disabled-bg-color: #DDD;\n",
              "  }\n",
              "\n",
              "  [theme=dark] .colab-df-quickchart {\n",
              "      --bg-color: #3B4455;\n",
              "      --fill-color: #D2E3FC;\n",
              "      --hover-bg-color: #434B5C;\n",
              "      --hover-fill-color: #FFFFFF;\n",
              "      --disabled-bg-color: #3B4455;\n",
              "      --disabled-fill-color: #666;\n",
              "  }\n",
              "\n",
              "  .colab-df-quickchart {\n",
              "    background-color: var(--bg-color);\n",
              "    border: none;\n",
              "    border-radius: 50%;\n",
              "    cursor: pointer;\n",
              "    display: none;\n",
              "    fill: var(--fill-color);\n",
              "    height: 32px;\n",
              "    padding: 0;\n",
              "    width: 32px;\n",
              "  }\n",
              "\n",
              "  .colab-df-quickchart:hover {\n",
              "    background-color: var(--hover-bg-color);\n",
              "    box-shadow: 0 1px 2px rgba(60, 64, 67, 0.3), 0 1px 3px 1px rgba(60, 64, 67, 0.15);\n",
              "    fill: var(--button-hover-fill-color);\n",
              "  }\n",
              "\n",
              "  .colab-df-quickchart-complete:disabled,\n",
              "  .colab-df-quickchart-complete:disabled:hover {\n",
              "    background-color: var(--disabled-bg-color);\n",
              "    fill: var(--disabled-fill-color);\n",
              "    box-shadow: none;\n",
              "  }\n",
              "\n",
              "  .colab-df-spinner {\n",
              "    border: 2px solid var(--fill-color);\n",
              "    border-color: transparent;\n",
              "    border-bottom-color: var(--fill-color);\n",
              "    animation:\n",
              "      spin 1s steps(1) infinite;\n",
              "  }\n",
              "\n",
              "  @keyframes spin {\n",
              "    0% {\n",
              "      border-color: transparent;\n",
              "      border-bottom-color: var(--fill-color);\n",
              "      border-left-color: var(--fill-color);\n",
              "    }\n",
              "    20% {\n",
              "      border-color: transparent;\n",
              "      border-left-color: var(--fill-color);\n",
              "      border-top-color: var(--fill-color);\n",
              "    }\n",
              "    30% {\n",
              "      border-color: transparent;\n",
              "      border-left-color: var(--fill-color);\n",
              "      border-top-color: var(--fill-color);\n",
              "      border-right-color: var(--fill-color);\n",
              "    }\n",
              "    40% {\n",
              "      border-color: transparent;\n",
              "      border-right-color: var(--fill-color);\n",
              "      border-top-color: var(--fill-color);\n",
              "    }\n",
              "    60% {\n",
              "      border-color: transparent;\n",
              "      border-right-color: var(--fill-color);\n",
              "    }\n",
              "    80% {\n",
              "      border-color: transparent;\n",
              "      border-right-color: var(--fill-color);\n",
              "      border-bottom-color: var(--fill-color);\n",
              "    }\n",
              "    90% {\n",
              "      border-color: transparent;\n",
              "      border-bottom-color: var(--fill-color);\n",
              "    }\n",
              "  }\n",
              "</style>\n",
              "\n",
              "  <script>\n",
              "    async function quickchart(key) {\n",
              "      const quickchartButtonEl =\n",
              "        document.querySelector('#' + key + ' button');\n",
              "      quickchartButtonEl.disabled = true;  // To prevent multiple clicks.\n",
              "      quickchartButtonEl.classList.add('colab-df-spinner');\n",
              "      try {\n",
              "        const charts = await google.colab.kernel.invokeFunction(\n",
              "            'suggestCharts', [key], {});\n",
              "      } catch (error) {\n",
              "        console.error('Error during call to suggestCharts:', error);\n",
              "      }\n",
              "      quickchartButtonEl.classList.remove('colab-df-spinner');\n",
              "      quickchartButtonEl.classList.add('colab-df-quickchart-complete');\n",
              "    }\n",
              "    (() => {\n",
              "      let quickchartButtonEl =\n",
              "        document.querySelector('#df-4db6eea7-c82a-4df9-acd6-882aed6274d2 button');\n",
              "      quickchartButtonEl.style.display =\n",
              "        google.colab.kernel.accessAllowed ? 'block' : 'none';\n",
              "    })();\n",
              "  </script>\n",
              "</div>\n",
              "    </div>\n",
              "  </div>\n"
            ]
          },
          "metadata": {},
          "execution_count": 19
        }
      ]
    },
    {
      "cell_type": "code",
      "metadata": {
        "id": "rmEFU_6Vjerp"
      },
      "source": [
        "# SOLUTION: Uncomment and execute the cell below to get help\n",
        "#disp(hint + '03-pandas-06')"
      ],
      "execution_count": null,
      "outputs": []
    },
    {
      "cell_type": "markdown",
      "metadata": {
        "id": "v6tOd9L37i8m"
      },
      "source": [
        "Use `describe()` to get a high level summary of the data:"
      ]
    },
    {
      "cell_type": "code",
      "metadata": {
        "id": "oTX0e2m_7i8n",
        "colab": {
          "base_uri": "https://localhost:8080/",
          "height": 300
        },
        "outputId": "2d1dffc4-f6bd-45c9-a253-48ce4b98b6d5"
      },
      "source": [
        "# Your code goes here\n",
        "df.describe()"
      ],
      "execution_count": null,
      "outputs": [
        {
          "output_type": "execute_result",
          "data": {
            "text/plain": [
              "         PostalCode  SalesClosePrice     LISTPRICE  OriginalListPrice  \\\n",
              "count   5000.000000     5.000000e+03  5.000000e+03       5.000000e+03   \n",
              "mean   55113.216600     2.628045e+05  2.634194e+05       2.750026e+05   \n",
              "std       16.040821     1.405598e+05  1.439441e+05       4.096207e+05   \n",
              "min    55042.000000     4.800000e+04  4.000000e+04       5.000000e+00   \n",
              "25%    55105.000000     1.746500e+05  1.720000e+05       1.749000e+05   \n",
              "50%    55116.000000     2.250000e+05  2.249000e+05       2.250000e+05   \n",
              "75%    55125.000000     3.150000e+05  3.150000e+05       3.200000e+05   \n",
              "max    55130.000000     1.700000e+06  1.850000e+06       2.199000e+07   \n",
              "\n",
              "        PricePerTSFT  DAYSONMARKET  SQFTABOVEGROUND   YEARBUILT  \n",
              "count    5000.000000   5000.000000      5000.000000  5000.00000  \n",
              "mean      199.869863     28.358400      1489.013000  1958.99960  \n",
              "std      3887.265428     28.708702       626.486803    38.84975  \n",
              "min        29.556700      0.000000         1.000000  1850.00000  \n",
              "25%       117.774375      9.000000      1074.000000  1923.00000  \n",
              "50%       135.728700     19.000000      1320.000000  1959.00000  \n",
              "75%       164.092350     38.000000      1733.000000  1995.00000  \n",
              "max    275000.000000    225.000000      7200.000000  2018.00000  "
            ],
            "text/html": [
              "\n",
              "  <div id=\"df-7286f436-dd2c-4ca4-a6e0-c6f909dbfd9e\" class=\"colab-df-container\">\n",
              "    <div>\n",
              "<style scoped>\n",
              "    .dataframe tbody tr th:only-of-type {\n",
              "        vertical-align: middle;\n",
              "    }\n",
              "\n",
              "    .dataframe tbody tr th {\n",
              "        vertical-align: top;\n",
              "    }\n",
              "\n",
              "    .dataframe thead th {\n",
              "        text-align: right;\n",
              "    }\n",
              "</style>\n",
              "<table border=\"1\" class=\"dataframe\">\n",
              "  <thead>\n",
              "    <tr style=\"text-align: right;\">\n",
              "      <th></th>\n",
              "      <th>PostalCode</th>\n",
              "      <th>SalesClosePrice</th>\n",
              "      <th>LISTPRICE</th>\n",
              "      <th>OriginalListPrice</th>\n",
              "      <th>PricePerTSFT</th>\n",
              "      <th>DAYSONMARKET</th>\n",
              "      <th>SQFTABOVEGROUND</th>\n",
              "      <th>YEARBUILT</th>\n",
              "    </tr>\n",
              "  </thead>\n",
              "  <tbody>\n",
              "    <tr>\n",
              "      <th>count</th>\n",
              "      <td>5000.000000</td>\n",
              "      <td>5.000000e+03</td>\n",
              "      <td>5.000000e+03</td>\n",
              "      <td>5.000000e+03</td>\n",
              "      <td>5000.000000</td>\n",
              "      <td>5000.000000</td>\n",
              "      <td>5000.000000</td>\n",
              "      <td>5000.00000</td>\n",
              "    </tr>\n",
              "    <tr>\n",
              "      <th>mean</th>\n",
              "      <td>55113.216600</td>\n",
              "      <td>2.628045e+05</td>\n",
              "      <td>2.634194e+05</td>\n",
              "      <td>2.750026e+05</td>\n",
              "      <td>199.869863</td>\n",
              "      <td>28.358400</td>\n",
              "      <td>1489.013000</td>\n",
              "      <td>1958.99960</td>\n",
              "    </tr>\n",
              "    <tr>\n",
              "      <th>std</th>\n",
              "      <td>16.040821</td>\n",
              "      <td>1.405598e+05</td>\n",
              "      <td>1.439441e+05</td>\n",
              "      <td>4.096207e+05</td>\n",
              "      <td>3887.265428</td>\n",
              "      <td>28.708702</td>\n",
              "      <td>626.486803</td>\n",
              "      <td>38.84975</td>\n",
              "    </tr>\n",
              "    <tr>\n",
              "      <th>min</th>\n",
              "      <td>55042.000000</td>\n",
              "      <td>4.800000e+04</td>\n",
              "      <td>4.000000e+04</td>\n",
              "      <td>5.000000e+00</td>\n",
              "      <td>29.556700</td>\n",
              "      <td>0.000000</td>\n",
              "      <td>1.000000</td>\n",
              "      <td>1850.00000</td>\n",
              "    </tr>\n",
              "    <tr>\n",
              "      <th>25%</th>\n",
              "      <td>55105.000000</td>\n",
              "      <td>1.746500e+05</td>\n",
              "      <td>1.720000e+05</td>\n",
              "      <td>1.749000e+05</td>\n",
              "      <td>117.774375</td>\n",
              "      <td>9.000000</td>\n",
              "      <td>1074.000000</td>\n",
              "      <td>1923.00000</td>\n",
              "    </tr>\n",
              "    <tr>\n",
              "      <th>50%</th>\n",
              "      <td>55116.000000</td>\n",
              "      <td>2.250000e+05</td>\n",
              "      <td>2.249000e+05</td>\n",
              "      <td>2.250000e+05</td>\n",
              "      <td>135.728700</td>\n",
              "      <td>19.000000</td>\n",
              "      <td>1320.000000</td>\n",
              "      <td>1959.00000</td>\n",
              "    </tr>\n",
              "    <tr>\n",
              "      <th>75%</th>\n",
              "      <td>55125.000000</td>\n",
              "      <td>3.150000e+05</td>\n",
              "      <td>3.150000e+05</td>\n",
              "      <td>3.200000e+05</td>\n",
              "      <td>164.092350</td>\n",
              "      <td>38.000000</td>\n",
              "      <td>1733.000000</td>\n",
              "      <td>1995.00000</td>\n",
              "    </tr>\n",
              "    <tr>\n",
              "      <th>max</th>\n",
              "      <td>55130.000000</td>\n",
              "      <td>1.700000e+06</td>\n",
              "      <td>1.850000e+06</td>\n",
              "      <td>2.199000e+07</td>\n",
              "      <td>275000.000000</td>\n",
              "      <td>225.000000</td>\n",
              "      <td>7200.000000</td>\n",
              "      <td>2018.00000</td>\n",
              "    </tr>\n",
              "  </tbody>\n",
              "</table>\n",
              "</div>\n",
              "    <div class=\"colab-df-buttons\">\n",
              "\n",
              "  <div class=\"colab-df-container\">\n",
              "    <button class=\"colab-df-convert\" onclick=\"convertToInteractive('df-7286f436-dd2c-4ca4-a6e0-c6f909dbfd9e')\"\n",
              "            title=\"Convert this dataframe to an interactive table.\"\n",
              "            style=\"display:none;\">\n",
              "\n",
              "  <svg xmlns=\"http://www.w3.org/2000/svg\" height=\"24px\" viewBox=\"0 -960 960 960\">\n",
              "    <path d=\"M120-120v-720h720v720H120Zm60-500h600v-160H180v160Zm220 220h160v-160H400v160Zm0 220h160v-160H400v160ZM180-400h160v-160H180v160Zm440 0h160v-160H620v160ZM180-180h160v-160H180v160Zm440 0h160v-160H620v160Z\"/>\n",
              "  </svg>\n",
              "    </button>\n",
              "\n",
              "  <style>\n",
              "    .colab-df-container {\n",
              "      display:flex;\n",
              "      gap: 12px;\n",
              "    }\n",
              "\n",
              "    .colab-df-convert {\n",
              "      background-color: #E8F0FE;\n",
              "      border: none;\n",
              "      border-radius: 50%;\n",
              "      cursor: pointer;\n",
              "      display: none;\n",
              "      fill: #1967D2;\n",
              "      height: 32px;\n",
              "      padding: 0 0 0 0;\n",
              "      width: 32px;\n",
              "    }\n",
              "\n",
              "    .colab-df-convert:hover {\n",
              "      background-color: #E2EBFA;\n",
              "      box-shadow: 0px 1px 2px rgba(60, 64, 67, 0.3), 0px 1px 3px 1px rgba(60, 64, 67, 0.15);\n",
              "      fill: #174EA6;\n",
              "    }\n",
              "\n",
              "    .colab-df-buttons div {\n",
              "      margin-bottom: 4px;\n",
              "    }\n",
              "\n",
              "    [theme=dark] .colab-df-convert {\n",
              "      background-color: #3B4455;\n",
              "      fill: #D2E3FC;\n",
              "    }\n",
              "\n",
              "    [theme=dark] .colab-df-convert:hover {\n",
              "      background-color: #434B5C;\n",
              "      box-shadow: 0px 1px 3px 1px rgba(0, 0, 0, 0.15);\n",
              "      filter: drop-shadow(0px 1px 2px rgba(0, 0, 0, 0.3));\n",
              "      fill: #FFFFFF;\n",
              "    }\n",
              "  </style>\n",
              "\n",
              "    <script>\n",
              "      const buttonEl =\n",
              "        document.querySelector('#df-7286f436-dd2c-4ca4-a6e0-c6f909dbfd9e button.colab-df-convert');\n",
              "      buttonEl.style.display =\n",
              "        google.colab.kernel.accessAllowed ? 'block' : 'none';\n",
              "\n",
              "      async function convertToInteractive(key) {\n",
              "        const element = document.querySelector('#df-7286f436-dd2c-4ca4-a6e0-c6f909dbfd9e');\n",
              "        const dataTable =\n",
              "          await google.colab.kernel.invokeFunction('convertToInteractive',\n",
              "                                                    [key], {});\n",
              "        if (!dataTable) return;\n",
              "\n",
              "        const docLinkHtml = 'Like what you see? Visit the ' +\n",
              "          '<a target=\"_blank\" href=https://colab.research.google.com/notebooks/data_table.ipynb>data table notebook</a>'\n",
              "          + ' to learn more about interactive tables.';\n",
              "        element.innerHTML = '';\n",
              "        dataTable['output_type'] = 'display_data';\n",
              "        await google.colab.output.renderOutput(dataTable, element);\n",
              "        const docLink = document.createElement('div');\n",
              "        docLink.innerHTML = docLinkHtml;\n",
              "        element.appendChild(docLink);\n",
              "      }\n",
              "    </script>\n",
              "  </div>\n",
              "\n",
              "\n",
              "<div id=\"df-17936263-1c25-4a24-bbcc-4713cb4e9941\">\n",
              "  <button class=\"colab-df-quickchart\" onclick=\"quickchart('df-17936263-1c25-4a24-bbcc-4713cb4e9941')\"\n",
              "            title=\"Suggest charts.\"\n",
              "            style=\"display:none;\">\n",
              "\n",
              "<svg xmlns=\"http://www.w3.org/2000/svg\" height=\"24px\"viewBox=\"0 0 24 24\"\n",
              "     width=\"24px\">\n",
              "    <g>\n",
              "        <path d=\"M19 3H5c-1.1 0-2 .9-2 2v14c0 1.1.9 2 2 2h14c1.1 0 2-.9 2-2V5c0-1.1-.9-2-2-2zM9 17H7v-7h2v7zm4 0h-2V7h2v10zm4 0h-2v-4h2v4z\"/>\n",
              "    </g>\n",
              "</svg>\n",
              "  </button>\n",
              "\n",
              "<style>\n",
              "  .colab-df-quickchart {\n",
              "      --bg-color: #E8F0FE;\n",
              "      --fill-color: #1967D2;\n",
              "      --hover-bg-color: #E2EBFA;\n",
              "      --hover-fill-color: #174EA6;\n",
              "      --disabled-fill-color: #AAA;\n",
              "      --disabled-bg-color: #DDD;\n",
              "  }\n",
              "\n",
              "  [theme=dark] .colab-df-quickchart {\n",
              "      --bg-color: #3B4455;\n",
              "      --fill-color: #D2E3FC;\n",
              "      --hover-bg-color: #434B5C;\n",
              "      --hover-fill-color: #FFFFFF;\n",
              "      --disabled-bg-color: #3B4455;\n",
              "      --disabled-fill-color: #666;\n",
              "  }\n",
              "\n",
              "  .colab-df-quickchart {\n",
              "    background-color: var(--bg-color);\n",
              "    border: none;\n",
              "    border-radius: 50%;\n",
              "    cursor: pointer;\n",
              "    display: none;\n",
              "    fill: var(--fill-color);\n",
              "    height: 32px;\n",
              "    padding: 0;\n",
              "    width: 32px;\n",
              "  }\n",
              "\n",
              "  .colab-df-quickchart:hover {\n",
              "    background-color: var(--hover-bg-color);\n",
              "    box-shadow: 0 1px 2px rgba(60, 64, 67, 0.3), 0 1px 3px 1px rgba(60, 64, 67, 0.15);\n",
              "    fill: var(--button-hover-fill-color);\n",
              "  }\n",
              "\n",
              "  .colab-df-quickchart-complete:disabled,\n",
              "  .colab-df-quickchart-complete:disabled:hover {\n",
              "    background-color: var(--disabled-bg-color);\n",
              "    fill: var(--disabled-fill-color);\n",
              "    box-shadow: none;\n",
              "  }\n",
              "\n",
              "  .colab-df-spinner {\n",
              "    border: 2px solid var(--fill-color);\n",
              "    border-color: transparent;\n",
              "    border-bottom-color: var(--fill-color);\n",
              "    animation:\n",
              "      spin 1s steps(1) infinite;\n",
              "  }\n",
              "\n",
              "  @keyframes spin {\n",
              "    0% {\n",
              "      border-color: transparent;\n",
              "      border-bottom-color: var(--fill-color);\n",
              "      border-left-color: var(--fill-color);\n",
              "    }\n",
              "    20% {\n",
              "      border-color: transparent;\n",
              "      border-left-color: var(--fill-color);\n",
              "      border-top-color: var(--fill-color);\n",
              "    }\n",
              "    30% {\n",
              "      border-color: transparent;\n",
              "      border-left-color: var(--fill-color);\n",
              "      border-top-color: var(--fill-color);\n",
              "      border-right-color: var(--fill-color);\n",
              "    }\n",
              "    40% {\n",
              "      border-color: transparent;\n",
              "      border-right-color: var(--fill-color);\n",
              "      border-top-color: var(--fill-color);\n",
              "    }\n",
              "    60% {\n",
              "      border-color: transparent;\n",
              "      border-right-color: var(--fill-color);\n",
              "    }\n",
              "    80% {\n",
              "      border-color: transparent;\n",
              "      border-right-color: var(--fill-color);\n",
              "      border-bottom-color: var(--fill-color);\n",
              "    }\n",
              "    90% {\n",
              "      border-color: transparent;\n",
              "      border-bottom-color: var(--fill-color);\n",
              "    }\n",
              "  }\n",
              "</style>\n",
              "\n",
              "  <script>\n",
              "    async function quickchart(key) {\n",
              "      const quickchartButtonEl =\n",
              "        document.querySelector('#' + key + ' button');\n",
              "      quickchartButtonEl.disabled = true;  // To prevent multiple clicks.\n",
              "      quickchartButtonEl.classList.add('colab-df-spinner');\n",
              "      try {\n",
              "        const charts = await google.colab.kernel.invokeFunction(\n",
              "            'suggestCharts', [key], {});\n",
              "      } catch (error) {\n",
              "        console.error('Error during call to suggestCharts:', error);\n",
              "      }\n",
              "      quickchartButtonEl.classList.remove('colab-df-spinner');\n",
              "      quickchartButtonEl.classList.add('colab-df-quickchart-complete');\n",
              "    }\n",
              "    (() => {\n",
              "      let quickchartButtonEl =\n",
              "        document.querySelector('#df-17936263-1c25-4a24-bbcc-4713cb4e9941 button');\n",
              "      quickchartButtonEl.style.display =\n",
              "        google.colab.kernel.accessAllowed ? 'block' : 'none';\n",
              "    })();\n",
              "  </script>\n",
              "</div>\n",
              "    </div>\n",
              "  </div>\n"
            ]
          },
          "metadata": {},
          "execution_count": 20
        }
      ]
    },
    {
      "cell_type": "code",
      "metadata": {
        "id": "Ox0szYiijh_7"
      },
      "source": [
        "# SOLUTION: Uncomment and execute the cell below to get help\n",
        "#disp(hint + '03-pandas-07')"
      ],
      "execution_count": null,
      "outputs": []
    },
    {
      "cell_type": "markdown",
      "metadata": {
        "id": "fjd_0zUZ7i8r"
      },
      "source": [
        "Using `.info()` extract more info regarding the missing values and columns types:"
      ]
    },
    {
      "cell_type": "code",
      "metadata": {
        "id": "lLLyPOXX7i8s",
        "colab": {
          "base_uri": "https://localhost:8080/"
        },
        "outputId": "026df44e-120c-492b-98e0-321d185ab102"
      },
      "source": [
        "# Your code goes here\n",
        "df.info()"
      ],
      "execution_count": null,
      "outputs": [
        {
          "output_type": "stream",
          "name": "stdout",
          "text": [
            "<class 'pandas.core.frame.DataFrame'>\n",
            "RangeIndex: 5000 entries, 0 to 4999\n",
            "Data columns (total 18 columns):\n",
            " #   Column                Non-Null Count  Dtype  \n",
            "---  ------                --------------  -----  \n",
            " 0   streetaddress         5000 non-null   object \n",
            " 1   STREETNAME            5000 non-null   object \n",
            " 2   PostalCode            5000 non-null   int64  \n",
            " 3   StateOrProvince       5000 non-null   object \n",
            " 4   City                  5000 non-null   object \n",
            " 5   SchoolDistrictNumber  5000 non-null   object \n",
            " 6   SalesClosePrice       5000 non-null   int64  \n",
            " 7   LISTDATE              5000 non-null   object \n",
            " 8   offmarketdate         5000 non-null   object \n",
            " 9   LISTPRICE             5000 non-null   int64  \n",
            " 10  LISTTYPE              5000 non-null   object \n",
            " 11  OriginalListPrice     5000 non-null   int64  \n",
            " 12  PricePerTSFT          5000 non-null   float64\n",
            " 13  DAYSONMARKET          5000 non-null   int64  \n",
            " 14  ROOF                  4235 non-null   object \n",
            " 15  SQFTABOVEGROUND       5000 non-null   int64  \n",
            " 16  RoomArea1             4543 non-null   object \n",
            " 17  YEARBUILT             5000 non-null   int64  \n",
            "dtypes: float64(1), int64(7), object(10)\n",
            "memory usage: 703.2+ KB\n"
          ]
        }
      ]
    },
    {
      "cell_type": "code",
      "metadata": {
        "id": "ZBcHRSNmjnrh"
      },
      "source": [
        "# SOLUTION: Uncomment and execute the cell below to get help\n",
        "#disp(hint + '03-pandas-08')"
      ],
      "execution_count": null,
      "outputs": []
    },
    {
      "cell_type": "markdown",
      "metadata": {
        "id": "p9AXWr6Z7i8u"
      },
      "source": [
        "### How often are houses being sold above the listing price?\n",
        "\n",
        "To answer this question let's first visually inspect the relationship of `LISTPRICE` vs. `SalesClosePrice`. Here is a step by step guide to do that:\n",
        "\n",
        "First we want to tell `matplotlib` that we are running our code in a notebook mode:\n",
        "```python\n",
        "%matplotlib inline\n",
        "```"
      ]
    },
    {
      "cell_type": "code",
      "metadata": {
        "id": "jOZ3TldM7i8v"
      },
      "source": [
        "# Your code goes here\n",
        "%matplotlib inline\n",
        "import matplotlib.pyplot as plt"
      ],
      "execution_count": null,
      "outputs": []
    },
    {
      "cell_type": "code",
      "metadata": {
        "id": "mPKQuWfcjuef"
      },
      "source": [
        "# SOLUTION: Uncomment and execute the cell below to get help\n",
        "#disp(hint + '03-pandas-09')"
      ],
      "execution_count": null,
      "outputs": []
    },
    {
      "cell_type": "markdown",
      "metadata": {
        "id": "qiDsXMT37i8y"
      },
      "source": [
        "Then import seaborn and use the alias `sns`:"
      ]
    },
    {
      "cell_type": "code",
      "metadata": {
        "id": "8kjc0LDM7i8z"
      },
      "source": [
        "# Your code goes here\n",
        "import seaborn as sns"
      ],
      "execution_count": null,
      "outputs": []
    },
    {
      "cell_type": "code",
      "metadata": {
        "id": "2_il7mUkj1Hl"
      },
      "source": [
        "# SOLUTION: Uncomment and execute the cell below to get help\n",
        "#disp(hint + '03-pandas-10')"
      ],
      "execution_count": null,
      "outputs": []
    },
    {
      "cell_type": "markdown",
      "metadata": {
        "id": "OeLl23fd7i81"
      },
      "source": [
        "Use seaborn's `lmplot()` function to make a scatterplot with a linear model on top. All you need to provide is `x`, `y`, and `data` arguments. If you are facing issues check out the help function `sns.lmplot?`."
      ]
    },
    {
      "cell_type": "code",
      "metadata": {
        "id": "DK2twJ0d7i82",
        "colab": {
          "base_uri": "https://localhost:8080/",
          "height": 514
        },
        "outputId": "cc4a9435-8662-4a19-a0a3-7086daec03cb"
      },
      "source": [
        "# Your code goes here\n",
        "import seaborn as sns\n",
        "import matplotlib.pyplot as plt\n",
        "\n",
        "sns.lmplot(x='LISTPRICE', y='SalesClosePrice', data=df)\n",
        "plt.xlabel('LISTPRICE')\n",
        "plt.ylabel('SalesClosePrice')\n",
        "plt.title('LISTPRICE vs. SalesClosePrice')\n",
        "plt.show()"
      ],
      "execution_count": null,
      "outputs": [
        {
          "output_type": "display_data",
          "data": {
            "text/plain": [
              "<Figure size 500x500 with 1 Axes>"
            ],
            "image/png": "[encoded data removed]"
          },
          "metadata": {}
        }
      ]
    },
    {
      "cell_type": "code",
      "metadata": {
        "id": "f9w9LQXrnBQo"
      },
      "source": [
        "# SOLUTION: Uncomment and execute the cell below to get help\n",
        "#disp(hint + '03-pandas-11')"
      ],
      "execution_count": null,
      "outputs": []
    },
    {
      "cell_type": "markdown",
      "metadata": {
        "id": "hal9t-eF7i85"
      },
      "source": [
        "From the plot it is evident that there is a linear relationship between the two variables as the list price is often times set with professionals. We have two many data points and it is hard to draw a conclusion from this chart. Let's take a different path: we will find the percentage difference between these two variables and plot its histogram. It should give us a better understanding of the relationship.\n",
        "\n",
        "We can start with calculating this percentage difference, something like this:\n",
        "```python\n",
        "(df['SalesClosePrice'] - df['LISTPRICE'])/df['LISTPRICE'] * 100\n",
        "```\n",
        "\n",
        "Let's assign the result to a variable called `sales_vs_list`:"
      ]
    },
    {
      "cell_type": "code",
      "metadata": {
        "id": "2Mi1TaMC7i86"
      },
      "source": [
        "# Your code goes here\n",
        "sales_vs_list=(df['SalesClosePrice'] - df['LISTPRICE'])/df['LISTPRICE'] * 100"
      ],
      "execution_count": null,
      "outputs": []
    },
    {
      "cell_type": "code",
      "metadata": {
        "id": "IilCoUJBnG9r"
      },
      "source": [
        "# SOLUTION: Uncomment and execute the cell below to get help\n",
        "#disp(hint + '03-pandas-12')"
      ],
      "execution_count": null,
      "outputs": []
    },
    {
      "cell_type": "code",
      "metadata": {
        "id": "ortglL8o7i88",
        "colab": {
          "base_uri": "https://localhost:8080/"
        },
        "outputId": "643c3fc4-e271-42ab-9b1e-b4cdc074dd91"
      },
      "source": [
        "type(sales_vs_list)"
      ],
      "execution_count": null,
      "outputs": [
        {
          "output_type": "execute_result",
          "data": {
            "text/plain": [
              "pandas.core.series.Series"
            ]
          },
          "metadata": {},
          "execution_count": 33
        }
      ]
    },
    {
      "cell_type": "markdown",
      "metadata": {
        "id": "3ZLen30A7i8-"
      },
      "source": [
        "From the type of this object it is clear that this resulted in a pandas Series object. [Series](https://pandas.pydata.org/pandas-docs/stable/reference/api/pandas.Series.html#pandas.Series) are one-dimensional ndarray with axis labels. Series is the datastructure for a single column of a DataFrame, not only conceptually, but literally, i.e. the data in a DataFrame is actually stored in memory as a collection of Series.\n",
        "\n",
        "Now that we have our `sales_vs_list` ready let's try to answer our question.\n",
        "\n",
        "First, use the `describe()` method on `sales_vs_list` to get the statistics summary (similar to DataFrame):"
      ]
    },
    {
      "cell_type": "code",
      "metadata": {
        "id": "3IMtOnoi7i8-",
        "colab": {
          "base_uri": "https://localhost:8080/"
        },
        "outputId": "6dbb4d83-f637-481e-d551-b07845a37f9f"
      },
      "source": [
        "# Your code goes here\n",
        "sales_vs_list.describe()"
      ],
      "execution_count": null,
      "outputs": [
        {
          "output_type": "execute_result",
          "data": {
            "text/plain": [
              "count    5000.000000\n",
              "mean        0.091693\n",
              "std         4.514791\n",
              "min       -32.584270\n",
              "25%        -1.937002\n",
              "50%         0.000000\n",
              "75%         2.000000\n",
              "max       100.000000\n",
              "dtype: float64"
            ]
          },
          "metadata": {},
          "execution_count": 34
        }
      ]
    },
    {
      "cell_type": "code",
      "metadata": {
        "id": "M26mqWB-nOWb"
      },
      "source": [
        "# SOLUTION: Uncomment and execute the cell below to get help\n",
        "#disp(hint + '03-pandas-13')"
      ],
      "execution_count": null,
      "outputs": []
    },
    {
      "cell_type": "markdown",
      "metadata": {
        "id": "3UeKkpQK7i9B"
      },
      "source": [
        "A positive `sales_vs_list` value means that the house was sold above the list price and a negative means the opposite. With a 0 median it looks like as many houses were sold above the list price as below. But let's look at the histogram to get a better picture.\n",
        "\n",
        "Use seaborn's `distplot()` to plot a histogram. All you need to do is to pass our variable to it (remember this function is coming from seaborn so you will need to use `.` to access it from seaborn:"
      ]
    },
    {
      "cell_type": "code",
      "metadata": {
        "id": "r5ac7k1Z7i9C",
        "colab": {
          "base_uri": "https://localhost:8080/",
          "height": 626
        },
        "outputId": "cb7e0f83-6230-4163-ed0c-facc7752448a"
      },
      "source": [
        "# Your code for calculating sales_vs_list\n",
        "sales_vs_list = (df['SalesClosePrice'] - df['LISTPRICE']) / df['LISTPRICE'] * 100\n",
        "\n",
        "# Plot histogram for 'Sales_vs_List'\n",
        "sns.distplot(sales_vs_list, bins=20)\n",
        "sns.set_style(\"ticks\")\n",
        "sns.set_style(\"ticks\")\n",
        "plt.show()\n"
      ],
      "execution_count": null,
      "outputs": [
        {
          "output_type": "stream",
          "name": "stderr",
          "text": [
            "<ipython-input-54-e61503aca62e>:5: UserWarning: \n",
            "\n",
            "`distplot` is a deprecated function and will be removed in seaborn v0.14.0.\n",
            "\n",
            "Please adapt your code to use either `displot` (a figure-level function with\n",
            "similar flexibility) or `histplot` (an axes-level function for histograms).\n",
            "\n",
            "For a guide to updating your code to use the new functions, please see\n",
            "https://gist.github.com/mwaskom/de44147ed2974457ad6372750bbe5751\n",
            "\n",
            "  sns.distplot(sales_vs_list, bins=20)\n"
          ]
        },
        {
          "output_type": "display_data",
          "data": {
            "text/plain": [
              "<Figure size 640x480 with 1 Axes>"
            ],
            "image/png": "[encoded data removed]"
          },
          "metadata": {}
        }
      ]
    },
    {
      "cell_type": "code",
      "metadata": {
        "id": "QucYMCgSnSqC",
        "colab": {
          "base_uri": "https://localhost:8080/",
          "height": 35
        },
        "outputId": "8b31116c-ee72-46e3-e197-34457d57471a"
      },
      "source": [
        "# SOLUTION: Uncomment and execute the cell below to get help\n",
        "#disp(hint + '03-pandas-14')\n",
        "sns.despine()\n",
        "sns.despine()"
      ],
      "execution_count": null,
      "outputs": [
        {
          "output_type": "display_data",
          "data": {
            "text/plain": [
              "<Figure size 640x480 with 0 Axes>"
            ]
          },
          "metadata": {}
        }
      ]
    },
    {
      "cell_type": "markdown",
      "metadata": {
        "id": "HwSrwHHd7i9E"
      },
      "source": [
        "This is great, but let's make it even look nicer. You can set\n",
        "```python\n",
        "sns.set_style(\"ticks\")\n",
        "```\n",
        "to give a little extra structure to the plot. Go back to the previous plot and add that line before your plot. Note that you only need to do it once in the notebook and the style will carry for the following cells.\n",
        "\n",
        "Another \"stylish\" change you can make is to remove the top and right axes spines, which are not needed. The seaborn function `despine()` can be called to remove them. It has to be called the line after the plot:\n",
        "```python\n",
        "sns.despine()\n",
        "```\n",
        "\n",
        "To learn more about controlling figure aesthetics checkout [seaborn's documentation page](https://seaborn.pydata.org/tutorial/aesthetics.html)."
      ]
    },
    {
      "cell_type": "markdown",
      "metadata": {
        "id": "5uAdRD967i9F"
      },
      "source": [
        "Except some outliers it looks like the houses were sold within the 20% of the list price. We can checkout how many of these outliers are out there.\n",
        "\n",
        "Filtering with Series is very similar to DataFrames; you can create a conditional such as `sales_vs_list > 20` and pass it to the original Series. Let's find all the instances where the house was sold more than 20% above the list price:"
      ]
    },
    {
      "cell_type": "code",
      "metadata": {
        "id": "NBwMnXI_7i9F",
        "colab": {
          "base_uri": "https://localhost:8080/"
        },
        "outputId": "6ea6becf-1b17-45da-aca2-87fa6478a739"
      },
      "source": [
        "outliers = df[sales_vs_list > 20]\n",
        "\n",
        "# Print the instances where the house was sold more than 20% above the list price\n",
        "outliers.index\n",
        "\n",
        "\n",
        "\n",
        "\n",
        "\n",
        "\n",
        "\n",
        "\n",
        "\n",
        ""
      ],
      "execution_count": 105,
      "outputs": [
        {
          "output_type": "execute_result",
          "data": {
            "text/plain": [
              "Int64Index([1028, 1031, 1037, 1107, 1468, 2115, 4983], dtype='int64')"
            ]
          },
          "metadata": {},
          "execution_count": 105
        }
      ]
    },
    {
      "cell_type": "code",
      "metadata": {
        "id": "Mo2EzxybnYfb"
      },
      "source": [
        "# SOLUTION: Uncomment and execute the cell below to get help\n",
        "#disp(hint + '03_pandas_15')"
      ],
      "execution_count": null,
      "outputs": []
    },
    {
      "cell_type": "markdown",
      "metadata": {
        "id": "sNgWm4sa7i9H"
      },
      "source": [
        "Okay, that long tail represent only 7 datapoints. Can you re-draw the histogram excluding the values above 20 and below -20?\n",
        "\n",
        "This time use `kde=False` to ignore the gaussian kernel density estimate, use `bins=30` to include 30 bins, and specify `color=\"green\"` for a change:"
      ]
    },
    {
      "cell_type": "code",
      "metadata": {
        "id": "MpqJvcOc7i9I",
        "colab": {
          "base_uri": "https://localhost:8080/",
          "height": 435
        },
        "outputId": "a516a39c-a7a8-4f4d-e739-16fb42433d9a"
      },
      "source": [
        "# Your code goes here\n",
        "import matplotlib.pyplot as plt\n",
        "\n",
        "# Filter the data to exclude values above 20 and below -20\n",
        "filtered_data = sales_vs_list[(sales_vs_list >= -20) & (sales_vs_list <= 20)]\n",
        "\n",
        "# Plot the histogram with specified parameters\n",
        "plt.hist(filtered_data, bins=30, color=\"green\")\n",
        "plt.show()\n"
      ],
      "execution_count": 110,
      "outputs": [
        {
          "output_type": "display_data",
          "data": {
            "text/plain": [
              "<Figure size 640x480 with 1 Axes>"
            ],
            "image/png": "[encoded data removed]"
          },
          "metadata": {}
        }
      ]
    },
    {
      "cell_type": "code",
      "metadata": {
        "id": "vyYc2yxOndiV"
      },
      "source": [
        "# SOLUTION: Uncomment and execute the cell below to get help\n",
        "#disp(hint + '03_pandas_16')"
      ],
      "execution_count": null,
      "outputs": []
    },
    {
      "cell_type": "markdown",
      "metadata": {
        "id": "FZYu1OPd7i9K"
      },
      "source": [
        "Can you find how many of the houses were sold within 1% of the list price?"
      ]
    },
    {
      "cell_type": "code",
      "metadata": {
        "id": "eCBzQqj67i9L",
        "colab": {
          "base_uri": "https://localhost:8080/"
        },
        "outputId": "b6fba335-ad0b-4f02-ed06-42cfa301a3d7"
      },
      "source": [
        "# Your code goes here\n",
        "houses_within_1_percent = (abs(sales_vs_list) < 1).sum()\n",
        "houses_within_1_percent\n",
        "\n"
      ],
      "execution_count": 118,
      "outputs": [
        {
          "output_type": "execute_result",
          "data": {
            "text/plain": [
              "1699"
            ]
          },
          "metadata": {},
          "execution_count": 118
        }
      ]
    },
    {
      "cell_type": "code",
      "metadata": {
        "id": "hvCVKelunhVw"
      },
      "source": [
        "# SOLUTION: Uncomment and execute the cell below to get help\n",
        "#disp(hint + '03_pandas_17')"
      ],
      "execution_count": null,
      "outputs": []
    },
    {
      "cell_type": "markdown",
      "metadata": {
        "id": "pDbDVA1j7i9N"
      },
      "source": [
        "What percentage of overall dataset does it translate to?"
      ]
    },
    {
      "cell_type": "code",
      "metadata": {
        "id": "sE1jRary7i9N",
        "colab": {
          "base_uri": "https://localhost:8080/"
        },
        "outputId": "ab6350b3-dda9-465a-ebf5-a05c13a2d759"
      },
      "source": [
        "# Your code goes here\n",
        "total_houses = df.shape[0]\n",
        "percentage=(houses_within_1_percent/total_houses)*100\n",
        "percentage\n"
      ],
      "execution_count": 119,
      "outputs": [
        {
          "output_type": "execute_result",
          "data": {
            "text/plain": [
              "33.98"
            ]
          },
          "metadata": {},
          "execution_count": 119
        }
      ]
    },
    {
      "cell_type": "code",
      "metadata": {
        "id": "dv7LTtTvnlZP"
      },
      "source": [
        "# SOLUTION: Uncomment and execute the cell below to get help\n",
        "#disp(hint + '03_pandas_18')"
      ],
      "execution_count": null,
      "outputs": []
    },
    {
      "cell_type": "markdown",
      "metadata": {
        "id": "W3PX2pLc7i9Q"
      },
      "source": [
        "Now that we are a pro in plotting histograms let's go back to our `df` DataFrame and plot the histogram of `SalesClosePrice`.\n",
        "\n",
        "Note that in the plot below I have used `.set_title(\"Distribution of Closing Price\")` from `matplotlib` to assign a title. Just append that to the rest of your code. You will have to import the package: `import matplotlib.pyplot as plt`"
      ]
    },
    {
      "cell_type": "code",
      "metadata": {
        "id": "1fLqnYyD7i9Q",
        "colab": {
          "base_uri": "https://localhost:8080/",
          "height": 481
        },
        "outputId": "43abc2fd-543b-40f0-aec1-a8f584c93d60"
      },
      "source": [
        "import matplotlib.pyplot as plt\n",
        "\n",
        "# Assuming 'df' is your DataFrame\n",
        "\n",
        "# Plot the histogram of SalesClosePrice\n",
        "plt.hist(df['SalesClosePrice'], bins=30, color=\"blue\")\n",
        "\n",
        "\n",
        "# Labeling the axes\n",
        "plt.xlabel('SalesClosePrice')\n",
        "plt.xticks(rotation=20)\n",
        "plt.title(\"Distribution of Closing Price\")\n",
        "plt.show()\n"
      ],
      "execution_count": 125,
      "outputs": [
        {
          "output_type": "display_data",
          "data": {
            "text/plain": [
              "<Figure size 640x480 with 1 Axes>"
            ],
            "image/png": "[encoded data removed]"
          },
          "metadata": {}
        }
      ]
    },
    {
      "cell_type": "code",
      "metadata": {
        "id": "2LFaOSrJnpa0"
      },
      "source": [
        "# SOLUTION: Uncomment and execute the cell below to get help\n",
        "#disp(hint + '03_pandas_19')"
      ],
      "execution_count": null,
      "outputs": []
    },
    {
      "cell_type": "markdown",
      "metadata": {
        "id": "HWFQzZS-7i9T"
      },
      "source": [
        "Note: seaborn is built on top of matplotlib. This means that we can use matplotlib's functions along with it. For instance in the above plot I have used the followings to format my graph:\n",
        "```python\n",
        "plt.xticks(rotation=20)\n",
        "plt.title(\"Distribution of Closing Price\")\n",
        "```\n",
        "\n",
        "You still need to `import matplotlib.pyplot as plt`.\n",
        "\n",
        "You can also use a violin plot to show the distribution. Violin plot is similar to a box plot, with the addition of a rotated kernel density plot on each side. We can simply use `sns.violinplot()` and pass `data` and `y` (or `x` depending on which direction you want the violin to be plotted).\n",
        "\n",
        "Draw a violin plot using `SalesClosePrice`:"
      ]
    },
    {
      "cell_type": "code",
      "metadata": {
        "id": "BFI8GSth7i9T",
        "colab": {
          "base_uri": "https://localhost:8080/",
          "height": 433
        },
        "outputId": "acda6764-ab16-4d2d-a10d-a68b2a511373"
      },
      "source": [
        "# Your code goes here\n",
        "import seaborn as sns\n",
        "import matplotlib.pyplot as plt\n",
        "\n",
        "\n",
        "\n",
        "# Create a violin plot for SalesClosePrice\n",
        "sns.violinplot(y=df['SalesClosePrice'], color=\"violet\")\n",
        "\n",
        "# Add a title\n",
        "plt.title(\"Distribution of Closing Price (Violin Plot)\")\n",
        "\n",
        "# Label the y-axis\n",
        "plt.ylabel('Sales Close Price')\n",
        "plt.show()\n"
      ],
      "execution_count": 128,
      "outputs": [
        {
          "output_type": "display_data",
          "data": {
            "text/plain": [
              "<Figure size 640x480 with 1 Axes>"
            ],
            "image/png": "[encoded data removed]"
          },
          "metadata": {}
        }
      ]
    },
    {
      "cell_type": "code",
      "metadata": {
        "id": "BrsIohHQnu6A"
      },
      "source": [
        "# SOLUTION: Uncomment and execute the cell below to get help\n",
        "#disp(hint + '03_pandas_20')"
      ],
      "execution_count": null,
      "outputs": []
    },
    {
      "cell_type": "markdown",
      "metadata": {
        "id": "WUkep7cG7i9X"
      },
      "source": [
        "Repeat the previous plot with the difference of adding an `x` variable, `SchoolDistrictNumber` to create a violin plot per category:"
      ]
    },
    {
      "cell_type": "code",
      "metadata": {
        "id": "DhHNotx67i9X",
        "colab": {
          "base_uri": "https://localhost:8080/",
          "height": 693
        },
        "outputId": "a83832f7-e15c-42d6-89d9-4dfd4770a9ca"
      },
      "source": [
        "# Your code goes here\n",
        "import seaborn as sns\n",
        "import matplotlib.pyplot as plt\n",
        "\n",
        "sns.violinplot(x=df['SchoolDistrictNumber'], y=df['SalesClosePrice'], color=\"violet\")\n",
        "\n",
        "# Add a title\n",
        "plt.title(\"Distribution of Closing Price by School District (Violin Plot)\")\n",
        "\n",
        "# Label the axes\n",
        "plt.xlabel('School District Number')\n",
        "plt.ylabel('Sales Close Price')\n",
        "plt.xticks(rotation=90)\n",
        "plt.show()\n"
      ],
      "execution_count": 132,
      "outputs": [
        {
          "output_type": "display_data",
          "data": {
            "text/plain": [
              "<Figure size 640x480 with 1 Axes>"
            ],
            "image/png": "[encoded data removed]"
          },
          "metadata": {}
        }
      ]
    },
    {
      "cell_type": "code",
      "metadata": {
        "id": "h9g4ZZ7anyxF"
      },
      "source": [
        "# SOLUTION: Uncomment and execute the cell below to get help\n",
        "#disp(hint + '03_pandas_21')"
      ],
      "execution_count": null,
      "outputs": []
    },
    {
      "cell_type": "markdown",
      "metadata": {
        "id": "Id-Mie077i9c"
      },
      "source": [
        "Try this with `x=\"City\"`:"
      ]
    },
    {
      "cell_type": "code",
      "metadata": {
        "id": "6ByFrImZ7i9d",
        "colab": {
          "base_uri": "https://localhost:8080/",
          "height": 609
        },
        "outputId": "b708c997-f1fd-4a43-c41d-485ea0632320"
      },
      "source": [
        "# Your code goes here\n",
        "# Your code goes here\n",
        "import seaborn as sns\n",
        "import matplotlib.pyplot as plt\n",
        "\n",
        "sns.violinplot(x=df['City'], y=df['SalesClosePrice'], color=\"violet\")\n",
        "\n",
        "# Add a title\n",
        "plt.title(\"Distribution of Closing Price by School District (Violin Plot)\")\n",
        "\n",
        "# Label the axes\n",
        "plt.xlabel('School District Number')\n",
        "plt.ylabel('Sales Close Price')\n",
        "plt.xticks(rotation=90)\n",
        "plt.show()"
      ],
      "execution_count": 133,
      "outputs": [
        {
          "output_type": "display_data",
          "data": {
            "text/plain": [
              "<Figure size 640x480 with 1 Axes>"
            ],
            "image/png": "[encoded data removed]"
          },
          "metadata": {}
        }
      ]
    },
    {
      "cell_type": "code",
      "metadata": {
        "id": "ZiPlJ3sgn3Du"
      },
      "source": [
        "# SOLUTION: Uncomment and execute the cell below to get help\n",
        "#disp(hint + '03_pandas_22')"
      ],
      "execution_count": null,
      "outputs": []
    },
    {
      "cell_type": "markdown",
      "metadata": {
        "id": "yz_O7TDS9ltK"
      },
      "source": [
        "## Handling Missing Vlaues\n",
        "How many missing values are in `RoomArea1` column?"
      ]
    },
    {
      "cell_type": "code",
      "metadata": {
        "id": "gsfQLhZZ_GoD",
        "colab": {
          "base_uri": "https://localhost:8080/"
        },
        "outputId": "66f557b9-2db8-47fe-a18a-1a5f386fa2f2"
      },
      "source": [
        "# Your code goes here\n",
        "missing_values_room_area1 = df['RoomArea1'].isnull().sum()\n",
        "missing_values_room_area1"
      ],
      "execution_count": 134,
      "outputs": [
        {
          "output_type": "execute_result",
          "data": {
            "text/plain": [
              "457"
            ]
          },
          "metadata": {},
          "execution_count": 134
        }
      ]
    },
    {
      "cell_type": "code",
      "metadata": {
        "id": "LyOEydLLn7SQ"
      },
      "source": [
        "# SOLUTION: Uncomment and execute the cell below to get help\n",
        "#disp(hint + '03_pandas_23')"
      ],
      "execution_count": null,
      "outputs": []
    },
    {
      "cell_type": "markdown",
      "metadata": {
        "id": "iMNl0P9v_l-v"
      },
      "source": [
        "Create `df2` where all the records no `RoomArea1` entry are dropped. Check with `df2.info()` to confirm:"
      ]
    },
    {
      "cell_type": "code",
      "metadata": {
        "id": "Y-a3ovik_zyn",
        "colab": {
          "base_uri": "https://localhost:8080/"
        },
        "outputId": "1337fc1b-97c9-475c-bdc0-26078c8c7d51"
      },
      "source": [
        "# Your code goes here\n",
        "df2 = df.dropna(subset=['RoomArea1'])\n",
        "df2.info()"
      ],
      "execution_count": 135,
      "outputs": [
        {
          "output_type": "stream",
          "name": "stdout",
          "text": [
            "<class 'pandas.core.frame.DataFrame'>\n",
            "Int64Index: 4543 entries, 0 to 4999\n",
            "Data columns (total 18 columns):\n",
            " #   Column                Non-Null Count  Dtype  \n",
            "---  ------                --------------  -----  \n",
            " 0   streetaddress         4543 non-null   object \n",
            " 1   STREETNAME            4543 non-null   object \n",
            " 2   PostalCode            4543 non-null   int64  \n",
            " 3   StateOrProvince       4543 non-null   object \n",
            " 4   City                  4543 non-null   object \n",
            " 5   SchoolDistrictNumber  4543 non-null   object \n",
            " 6   SalesClosePrice       4543 non-null   int64  \n",
            " 7   LISTDATE              4543 non-null   object \n",
            " 8   offmarketdate         4543 non-null   object \n",
            " 9   LISTPRICE             4543 non-null   int64  \n",
            " 10  LISTTYPE              4543 non-null   object \n",
            " 11  OriginalListPrice     4543 non-null   int64  \n",
            " 12  PricePerTSFT          4543 non-null   float64\n",
            " 13  DAYSONMARKET          4543 non-null   int64  \n",
            " 14  ROOF                  3902 non-null   object \n",
            " 15  SQFTABOVEGROUND       4543 non-null   int64  \n",
            " 16  RoomArea1             4543 non-null   object \n",
            " 17  YEARBUILT             4543 non-null   int64  \n",
            "dtypes: float64(1), int64(7), object(10)\n",
            "memory usage: 674.4+ KB\n"
          ]
        }
      ]
    },
    {
      "cell_type": "code",
      "metadata": {
        "id": "1YAkMng6n_AN"
      },
      "source": [
        "# SOLUTION: Uncomment and execute the cell below to get help\n",
        "#disp(hint + '03_pandas_24')"
      ],
      "execution_count": null,
      "outputs": []
    },
    {
      "cell_type": "code",
      "metadata": {
        "id": "01VV8iOB900I",
        "colab": {
          "base_uri": "https://localhost:8080/",
          "height": 415
        },
        "outputId": "a2f3fdb1-1993-4158-ee72-771d744d99a4"
      },
      "source": [
        "df2.info()"
      ],
      "execution_count": null,
      "outputs": [
        {
          "output_type": "stream",
          "text": [
            "<class 'pandas.core.frame.DataFrame'>\n",
            "Int64Index: 4543 entries, 0 to 4999\n",
            "Data columns (total 18 columns):\n",
            "streetaddress           4543 non-null object\n",
            "STREETNAME              4543 non-null object\n",
            "PostalCode              4543 non-null int64\n",
            "StateOrProvince         4543 non-null object\n",
            "City                    4543 non-null object\n",
            "SchoolDistrictNumber    4543 non-null object\n",
            "SalesClosePrice         4543 non-null int64\n",
            "LISTDATE                4543 non-null object\n",
            "offmarketdate           4543 non-null object\n",
            "LISTPRICE               4543 non-null int64\n",
            "LISTTYPE                4543 non-null object\n",
            "OriginalListPrice       4543 non-null int64\n",
            "PricePerTSFT            4543 non-null float64\n",
            "DAYSONMARKET            4543 non-null int64\n",
            "ROOF                    3902 non-null object\n",
            "SQFTABOVEGROUND         4543 non-null int64\n",
            "RoomArea1               4543 non-null object\n",
            "YEARBUILT               4543 non-null int64\n",
            "dtypes: float64(1), int64(7), object(10)\n",
            "memory usage: 674.4+ KB\n"
          ],
          "name": "stdout"
        }
      ]
    },
    {
      "cell_type": "markdown",
      "metadata": {
        "id": "018XfWOfCVjo"
      },
      "source": [
        "From the code below looks like **Asphalt Shingles** is the most commonly used roof in our dataset. Use that to replace the unknown roofs we have in our dataset.\n",
        "\n",
        "WARNING: replacing NAs with another value is a common technique but has to be used with caution. For instance, the reason some of these properties don't have roofs could be because they are not buildings, in which case you might want to exclude them from your analysis, rather than keeping them and introducing values for their missing points."
      ]
    },
    {
      "cell_type": "code",
      "metadata": {
        "id": "-hGUSUI7AcfC",
        "colab": {
          "base_uri": "https://localhost:8080/",
          "height": 242
        },
        "outputId": "9dc737b3-2163-49ff-8ceb-31f2d4082119"
      },
      "source": [
        "df.groupby('ROOF')['ROOF'].count().sort_values(ascending=False)"
      ],
      "execution_count": null,
      "outputs": [
        {
          "output_type": "execute_result",
          "data": {
            "text/plain": [
              "ROOF\n",
              "Asphalt Shingles                                                1417\n",
              "Asphalt Shingles, Age 8 Years or Less                            839\n",
              "Asphalt Shingles, Age Over 8 Years                               643\n",
              "Asphalt Shingles, Pitched, Age 8 Years or Less                   362\n",
              "Asphalt Shingles, Pitched                                        292\n",
              "                                                                ... \n",
              "Flat, Tar/Gravel, Age Over 8 Years                                 1\n",
              "Flat, Other                                                        1\n",
              "Flat, Age Over 8 Years, Tile                                       1\n",
              "Asphalt Shingles, Pitched, Flat, Age 8 Years or Less, Rubber       1\n",
              "Wood Shingles                                                      1\n",
              "Name: ROOF, Length: 73, dtype: int64"
            ]
          },
          "metadata": {
            "tags": []
          },
          "execution_count": 28
        }
      ]
    },
    {
      "cell_type": "code",
      "metadata": {
        "id": "AnB1ISRaAs92",
        "colab": {
          "base_uri": "https://localhost:8080/"
        },
        "outputId": "37dd75a7-a2a1-4dab-bd4a-85cc4059dbad"
      },
      "source": [
        "# Your code goes here\n",
        "df.groupby('ROOF')['ROOF'].count().sort_values(ascending=False)"
      ],
      "execution_count": 136,
      "outputs": [
        {
          "output_type": "execute_result",
          "data": {
            "text/plain": [
              "ROOF\n",
              "Asphalt Shingles                                                1417\n",
              "Asphalt Shingles, Age 8 Years or Less                            839\n",
              "Asphalt Shingles, Age Over 8 Years                               643\n",
              "Asphalt Shingles, Pitched, Age 8 Years or Less                   362\n",
              "Asphalt Shingles, Pitched                                        292\n",
              "                                                                ... \n",
              "Flat, Other                                                        1\n",
              "Flat, Age Over 8 Years, Tile                                       1\n",
              "Asphalt Shingles, Pitched, Flat, Age 8 Years or Less, Rubber       1\n",
              "Asphalt Shingles, Pitched, Flat, Rubber                            1\n",
              "Wood Shingles                                                      1\n",
              "Name: ROOF, Length: 73, dtype: int64"
            ]
          },
          "metadata": {},
          "execution_count": 136
        }
      ]
    },
    {
      "cell_type": "code",
      "metadata": {
        "id": "k_vU50WcoDLI"
      },
      "source": [
        "# SOLUTION: Uncomment and execute the cell below to get help\n",
        "#disp(hint + '03_pandas_25')"
      ],
      "execution_count": null,
      "outputs": []
    },
    {
      "cell_type": "code",
      "metadata": {
        "id": "cN3v0zpkDAQA",
        "colab": {
          "base_uri": "https://localhost:8080/"
        },
        "outputId": "77cfdce8-5d87-4245-a23b-0016c4d171d4"
      },
      "source": [
        "df2.info()"
      ],
      "execution_count": 137,
      "outputs": [
        {
          "output_type": "stream",
          "name": "stdout",
          "text": [
            "<class 'pandas.core.frame.DataFrame'>\n",
            "Int64Index: 4543 entries, 0 to 4999\n",
            "Data columns (total 18 columns):\n",
            " #   Column                Non-Null Count  Dtype  \n",
            "---  ------                --------------  -----  \n",
            " 0   streetaddress         4543 non-null   object \n",
            " 1   STREETNAME            4543 non-null   object \n",
            " 2   PostalCode            4543 non-null   int64  \n",
            " 3   StateOrProvince       4543 non-null   object \n",
            " 4   City                  4543 non-null   object \n",
            " 5   SchoolDistrictNumber  4543 non-null   object \n",
            " 6   SalesClosePrice       4543 non-null   int64  \n",
            " 7   LISTDATE              4543 non-null   object \n",
            " 8   offmarketdate         4543 non-null   object \n",
            " 9   LISTPRICE             4543 non-null   int64  \n",
            " 10  LISTTYPE              4543 non-null   object \n",
            " 11  OriginalListPrice     4543 non-null   int64  \n",
            " 12  PricePerTSFT          4543 non-null   float64\n",
            " 13  DAYSONMARKET          4543 non-null   int64  \n",
            " 14  ROOF                  3902 non-null   object \n",
            " 15  SQFTABOVEGROUND       4543 non-null   int64  \n",
            " 16  RoomArea1             4543 non-null   object \n",
            " 17  YEARBUILT             4543 non-null   int64  \n",
            "dtypes: float64(1), int64(7), object(10)\n",
            "memory usage: 674.4+ KB\n"
          ]
        }
      ]
    },
    {
      "cell_type": "code",
      "source": [],
      "metadata": {
        "id": "FqTujVQo1jEw"
      },
      "execution_count": null,
      "outputs": []
    }
  ]
}