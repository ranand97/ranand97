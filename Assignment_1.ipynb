{
  "nbformat": 4,
  "nbformat_minor": 0,
  "metadata": {
    "colab": {
      "provenance": [],
      "authorship_tag": "ABX9TyMMAYtAVA2s08Z4R1niGoCa",
      "include_colab_link": true
    },
    "kernelspec": {
      "name": "python3",
      "display_name": "Python 3"
    },
    "language_info": {
      "name": "python"
    }
  },
  "cells": [
    {
      "cell_type": "markdown",
      "metadata": {
        "id": "view-in-github",
        "colab_type": "text"
      },
      "source": [
        "<a href=\"https://colab.research.google.com/github/ranand97/ranand97/blob/main/Assignment_1.ipynb\" target=\"_parent\"><img src=\"https://colab.research.google.com/assets/colab-badge.svg\" alt=\"Open In Colab\"/></a>"
      ]
    },
    {
      "cell_type": "code",
      "execution_count": 3,
      "metadata": {
        "colab": {
          "base_uri": "https://localhost:8080/"
        },
        "id": "Uuk93LA5AmZz",
        "outputId": "ce69d3cf-f70d-47c3-968d-721500267101"
      },
      "outputs": [
        {
          "output_type": "stream",
          "name": "stdout",
          "text": [
            "40353607\n"
          ]
        }
      ],
      "source": [
        "result1= 7**9\n",
        "print(result1)\n",
        "#Using Exponential Arithmetic Operator\n"
      ]
    },
    {
      "cell_type": "code",
      "source": [
        "#For finding Quotient we can use floor division\n",
        "Quotient = 45365//74\n",
        "#For finding remainder we can use Modulus\n",
        "Remainder = 45365%74\n",
        "print('Quotient of 45365/74:',Quotient)\n",
        "print('Remainder of 45365/74:',Remainder)"
      ],
      "metadata": {
        "colab": {
          "base_uri": "https://localhost:8080/"
        },
        "id": "HIZt-FsSAudA",
        "outputId": "ff1dc14d-5bd0-45e3-cfa9-83c9fa99aa99"
      },
      "execution_count": 5,
      "outputs": [
        {
          "output_type": "stream",
          "name": "stdout",
          "text": [
            "Quotient of 45365/74: 613\n",
            "Remainder of 45365/74: 3\n"
          ]
        }
      ]
    },
    {
      "cell_type": "code",
      "source": [
        "#Defined value of a=780\n",
        "a=780\n",
        "#Added a logic to used modulo arithmetic operator to check a is a multiple of 12.\n",
        "\n",
        "if ((a % 12 == 0) and ((a >= 1000 and a < 1800) or (a > 0 and a <= 800))):\n",
        "    print(\"Yes\")\n",
        "\n"
      ],
      "metadata": {
        "colab": {
          "base_uri": "https://localhost:8080/"
        },
        "id": "WPijVUI7C7xK",
        "outputId": "4e0d670e-e484-4f79-b2a2-8cfcc19ab3aa"
      },
      "execution_count": 16,
      "outputs": [
        {
          "output_type": "stream",
          "name": "stdout",
          "text": [
            "Yes\n"
          ]
        }
      ]
    },
    {
      "cell_type": "code",
      "source": [
        "lst = [[5,[100,200,{'target':[1,2,3,'hello']}],23,11],1,71,2,[3,4],'bye']\n",
        "print(lst)\n",
        "hello_word = lst[0][1][2]['target'][3]\n",
        "print(hello_word)\n"
      ],
      "metadata": {
        "colab": {
          "base_uri": "https://localhost:8080/"
        },
        "id": "5nANUOP-Elon",
        "outputId": "5dc6c055-1808-4293-f80b-855aa1b75b9e"
      },
      "execution_count": 8,
      "outputs": [
        {
          "output_type": "stream",
          "name": "stdout",
          "text": [
            "[[5, [100, 200, {'target': [1, 2, 3, 'hello']}], 23, 11], 1, 71, 2, [3, 4], 'bye']\n",
            "hello\n"
          ]
        }
      ]
    },
    {
      "cell_type": "code",
      "source": [
        "L1 = [64,  34, 112,  91,  62,  40, 117,  80,  96,  34,  48,  -9, -33,\n",
        "      99,  16, 118, -51,  60, 115,   4, -10,  82,  -7,  77, -33, -40,\n",
        "      77,  90,  -9,  52, -44,  25, -43,  28, -37,  92,  25, -45,   3,\n",
        "      103,  22,  39, -52,  74, -54, -76, -10,   5, -54,  95, -59,  -2,\n",
        "      110,  63, -53, 113, -43,  18,  49, -20,  81, -67,   1,  38, -24,\n",
        "      57, -11, -69, -66, -67, -68, -16,  64, -34,  52, -37,  -7, -40,\n",
        "      11,  -3,  76,  91, -57, -48, -10, -16,  14,  13, -65]\n",
        "\n",
        "# Create a new list L2 with absolute values of even numbers from L1\n",
        "L2 = [abs(y) for y in L1 if y % 2 == 0]\n",
        "print(L2)\n",
        "print(sum(L2))\n",
        "\n",
        "\n"
      ],
      "metadata": {
        "colab": {
          "base_uri": "https://localhost:8080/"
        },
        "id": "NZtQhmFzHJoM",
        "outputId": "e9edae7f-9e44-4444-8259-8c11c2600b42"
      },
      "execution_count": 10,
      "outputs": [
        {
          "output_type": "stream",
          "name": "stdout",
          "text": [
            "[64, 34, 112, 62, 40, 80, 96, 34, 48, 16, 118, 60, 4, 10, 82, 40, 90, 52, 44, 28, 92, 22, 52, 74, 54, 76, 10, 54, 2, 110, 18, 20, 38, 24, 66, 68, 16, 64, 34, 52, 40, 76, 48, 10, 16, 14]\n",
            "2264\n"
          ]
        }
      ]
    },
    {
      "cell_type": "code",
      "source": [
        "L3 = [15, 11,  1,  3, 13,  3, 14, 16, 17, 17,  6, 18, 10, 19,  8,  1, 18,\n",
        "      17, 14,  1,  5,  2, 13,  0,  1, 13, 16,  8,  5, 11, 12,  8, 17, 14,\n",
        "      10, 18, 17, 16,  3,  7,  8, 15, 18,  7, 10,  5,  7, 16,  6,  5, 24,\n",
        "      18, 22, 32]\n",
        "def mult4_filter(L):\n",
        "    multi_of_4 = [x for x in L if x % 4 == 0]\n",
        "    return multi_of_4\n",
        "\n",
        "final = mult4_filter(L3)\n",
        "print(final)\n",
        "print(len(mult4_filter(L3)))\n",
        "\n"
      ],
      "metadata": {
        "colab": {
          "base_uri": "https://localhost:8080/"
        },
        "id": "NDxTjIXQJMSQ",
        "outputId": "952fc9fc-4656-4800-8bb9-acecf4f9c525"
      },
      "execution_count": 15,
      "outputs": [
        {
          "output_type": "stream",
          "name": "stdout",
          "text": [
            "[16, 8, 0, 16, 8, 12, 8, 16, 8, 16, 24, 32]\n",
            "12\n"
          ]
        }
      ]
    },
    {
      "cell_type": "code",
      "source": [],
      "metadata": {
        "id": "GiQRhSpzNMnQ"
      },
      "execution_count": null,
      "outputs": []
    }
  ]
}